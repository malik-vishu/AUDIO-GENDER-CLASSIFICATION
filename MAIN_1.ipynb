{
 "cells": [
  {
   "cell_type": "code",
   "execution_count": 2,
   "metadata": {
    "colab": {
     "base_uri": "https://localhost:8080/",
     "height": 36
    },
    "id": "WDJ5XjblJHM_",
    "outputId": "f4557de6-434d-4470-a552-697d69de5628"
   },
   "outputs": [
    {
     "name": "stderr",
     "output_type": "stream",
     "text": [
      "C:\\Users\\Vishwas\\AppData\\Local\\Programs\\Python\\Python39\\lib\\site-packages\\tqdm\\auto.py:22: TqdmWarning: IProgress not found. Please update jupyter and ipywidgets. See https://ipywidgets.readthedocs.io/en/stable/user_install.html\n",
      "  from .autonotebook import tqdm as notebook_tqdm\n"
     ]
    },
    {
     "data": {
      "text/plain": [
       "'1.13.0+cpu'"
      ]
     },
     "execution_count": 2,
     "metadata": {},
     "output_type": "execute_result"
    }
   ],
   "source": [
    "import torch\n",
    "from torch import nn\n",
    "import torchaudio\n",
    "import soundfile\n",
    "torch.__version__"
   ]
  },
  {
   "cell_type": "code",
   "execution_count": 3,
   "metadata": {
    "colab": {
     "base_uri": "https://localhost:8080/",
     "height": 36
    },
    "id": "H8GUDEGLJ4YV",
    "outputId": "9ddb11b5-c99a-4836-cd19-c43e1b16af81"
   },
   "outputs": [
    {
     "data": {
      "text/plain": [
       "'cpu'"
      ]
     },
     "execution_count": 3,
     "metadata": {},
     "output_type": "execute_result"
    }
   ],
   "source": [
    "# Setup device-agnostic code\n",
    "device = \"cuda\" if torch.cuda.is_available() else \"cpu\"\n",
    "device"
   ]
  },
  {
   "cell_type": "code",
   "execution_count": 4,
   "metadata": {
    "id": "wBLXhO7lK6h3"
   },
   "outputs": [],
   "source": [
    "from pathlib import Path\n",
    "audio_path = Path(\"AUDIO/\")"
   ]
  },
  {
   "cell_type": "code",
   "execution_count": 5,
   "metadata": {
    "id": "5PxQJcnxKDDy"
   },
   "outputs": [],
   "source": [
    "import os\n",
    "def walk_through_dir(dir_path):\n",
    "  \n",
    "  for dirpath, dirnames, filenames in os.walk(dir_path):\n",
    "    print(f\"There are {len(dirnames)} directories and {len(filenames)} audios in '{dirpath}'.\")"
   ]
  },
  {
   "cell_type": "code",
   "execution_count": 6,
   "metadata": {
    "colab": {
     "base_uri": "https://localhost:8080/"
    },
    "id": "FR48J9MTVIeG",
    "outputId": "9da6cff1-c1e6-49f5-a60f-51750441cd56"
   },
   "outputs": [
    {
     "name": "stdout",
     "output_type": "stream",
     "text": [
      "There are 3 directories and 0 audios in 'AUDIO'.\n",
      "There are 0 directories and 14 audios in 'AUDIO\\input'.\n",
      "There are 2 directories and 0 audios in 'AUDIO\\test'.\n",
      "There are 0 directories and 50 audios in 'AUDIO\\test\\female'.\n",
      "There are 0 directories and 52 audios in 'AUDIO\\test\\male'.\n",
      "There are 2 directories and 0 audios in 'AUDIO\\train'.\n",
      "There are 0 directories and 120 audios in 'AUDIO\\train\\female'.\n",
      "There are 0 directories and 124 audios in 'AUDIO\\train\\male'.\n"
     ]
    }
   ],
   "source": [
    "walk_through_dir(audio_path)"
   ]
  },
  {
   "cell_type": "code",
   "execution_count": 7,
   "metadata": {
    "colab": {
     "base_uri": "https://localhost:8080/"
    },
    "id": "mR47XwxWRB2I",
    "outputId": "9efc1ad1-1f9e-47ed-fa87-decb78e4f382"
   },
   "outputs": [
    {
     "data": {
      "text/plain": [
       "(WindowsPath('AUDIO/train'), WindowsPath('AUDIO/test'))"
      ]
     },
     "execution_count": 7,
     "metadata": {},
     "output_type": "execute_result"
    }
   ],
   "source": [
    "# Setup train and testing paths\n",
    "train_dir = audio_path / \"train\"\n",
    "test_dir = audio_path / \"test\"\n",
    "\n",
    "train_dir, test_dir"
   ]
  },
  {
   "cell_type": "code",
   "execution_count": 8,
   "metadata": {
    "colab": {
     "base_uri": "https://localhost:8080/"
    },
    "id": "ifnYmusJRd-_",
    "outputId": "16dae313-84a2-4f77-c5d2-784495882f21"
   },
   "outputs": [
    {
     "name": "stdout",
     "output_type": "stream",
     "text": [
      "Target directory: AUDIO\\train\n",
      "Class names found: ['female', 'male']\n"
     ]
    }
   ],
   "source": [
    "# Setup path for target directory\n",
    "import os\n",
    "target_directory = train_dir\n",
    "print(f\"Target directory: {target_directory}\")\n",
    "\n",
    "# Get the class names from the target directory\n",
    "class_names_found = sorted([entry.name for entry in list(os.scandir(audio_path / \"train\"))])\n",
    "print(f\"Class names found: {class_names_found}\")"
   ]
  },
  {
   "cell_type": "code",
   "execution_count": 9,
   "metadata": {
    "id": "LhiicoWfSF75"
   },
   "outputs": [],
   "source": [
    "# Make function to find classes in target directory\n",
    "from torch.utils.data import Dataset\n",
    "from typing import Tuple, Dict, List\n",
    "def find_classes(directory: str) -> Tuple[List[str], Dict[str, int]]:\n",
    "    \n",
    "    # 1. Get the class names by scanning the target directory\n",
    "    classes = sorted(entry.name for entry in os.scandir(directory) if entry.is_dir())\n",
    "    \n",
    "    # 2. Raise an error if class names not found\n",
    "    if not classes:\n",
    "        raise FileNotFoundError(f\"Couldn't find any classes in {directory}.\")\n",
    "        \n",
    "    # 3. Crearte a dictionary of index labels (computers prefer numerical rather than string labels)\n",
    "    class_to_idx = {cls_name: i for i, cls_name in enumerate(classes)}\n",
    "    return classes, class_to_idx"
   ]
  },
  {
   "cell_type": "code",
   "execution_count": 10,
   "metadata": {
    "colab": {
     "base_uri": "https://localhost:8080/"
    },
    "id": "gab2LegISbsU",
    "outputId": "cd165186-11b6-41ce-c68f-9aefa912d532"
   },
   "outputs": [
    {
     "data": {
      "text/plain": [
       "(['female', 'male'], {'female': 0, 'male': 1})"
      ]
     },
     "execution_count": 10,
     "metadata": {},
     "output_type": "execute_result"
    }
   ],
   "source": [
    "find_classes(train_dir)"
   ]
  },
  {
   "cell_type": "code",
   "execution_count": 11,
   "metadata": {
    "id": "d_1DRY_ASlTq"
   },
   "outputs": [],
   "source": [
    "from torch.utils.data import Dataset\n",
    "import torchaudio\n",
    "import soundfile\n",
    "from typing import Tuple, Dict, List\n",
    "import torchaudio\n",
    "import torch\n",
    "import pathlib\n",
    "import random\n",
    "\n",
    "torch.manual_seed(42)\n",
    "# 1. Subclass torch.utils.data.Dataset\n",
    "class AudioFolderCustom(Dataset):\n",
    "    \n",
    "    \n",
    "    def __init__(self, targ_dir, transformation,target_sample_rate,num_samples,device) -> None:\n",
    "        \n",
    "        # 3. Create class attributes\n",
    "        \n",
    "        self.paths = list(pathlib.Path(targ_dir).glob(\"*/*.wav\"))\n",
    "        #print(self.paths)\n",
    "        self.device = device\n",
    "        # Setup transforms\n",
    "        self.transform = transformation.to(self.device)\n",
    "        # Create classes and class_to_idx attributes\n",
    "        self.classes, self.class_to_idx = find_classes(targ_dir)\n",
    "        self.target_sample_rate = target_sample_rate\n",
    "        self.num_samples = num_samples\n",
    "\n",
    "    # 5. Overwrite the __len__() method\n",
    "    def __len__(self) -> int:\n",
    "        \"Returns the total number of samples.\"\n",
    "        return len(self.paths)\n",
    "    \n",
    "    # 6. Overwrite the __getitem__() method \n",
    "    def __getitem__(self, index: int) -> Tuple[torch.Tensor, int]:\n",
    "        \"Returns one sample of data, data and label (X, y).\"\n",
    "        signal, sr = torchaudio.load(self.paths[index])\n",
    "        signal = signal.to(self.device)\n",
    "        signal = random.uniform(2,3)*signal\n",
    "        signal = self._resample_if_necessary(signal, sr)\n",
    "        signal = self._mix_down_if_necessary(signal)\n",
    "        signal = self._cut_if_necessary(signal)\n",
    "        signal = self._right_pad_if_necessary(signal)\n",
    "        signal = self.transform(signal)\n",
    "        class_name  = self.paths[index].parent.name \n",
    "        class_idx = self.class_to_idx[class_name]\n",
    "        return signal, class_idx\n",
    "    \n",
    "    def _resample_if_necessary(self, signal, sr):\n",
    "        if sr != self.target_sample_rate:\n",
    "            resampler = torchaudio.transforms.Resample(sr, self.target_sample_rate)\n",
    "            signal = resampler(signal)\n",
    "        return signal\n",
    "    #channel to 1\n",
    "    def _mix_down_if_necessary(self, signal):\n",
    "        if signal.shape[0] > 1:\n",
    "            signal = torch.mean(signal, dim=0, keepdim=True)\n",
    "        return signal\n",
    "    def _cut_if_necessary(self, signal):\n",
    "        if signal.shape[1] > self.num_samples:\n",
    "            signal = signal[:, :self.num_samples]\n",
    "        return signal\n",
    "    def _right_pad_if_necessary(self, signal):\n",
    "        length_signal = signal.shape[1]\n",
    "        if length_signal < self.num_samples:\n",
    "            num_missing_samples = self.num_samples - length_signal\n",
    "            last_dim_padding = (0, num_missing_samples)\n",
    "            signal = torch.nn.functional.pad(signal, last_dim_padding)\n",
    "        return signal\n",
    "    "
   ]
  },
  {
   "cell_type": "code",
   "execution_count": 12,
   "metadata": {
    "id": "NdX2KijkvmqN"
   },
   "outputs": [],
   "source": [
    "SAMPLE_RATE = 22050*3\n",
    "NUM_SAMPLES = 22050*3"
   ]
  },
  {
   "cell_type": "code",
   "execution_count": 13,
   "metadata": {
    "id": "xVxE-VXfvrm5"
   },
   "outputs": [],
   "source": [
    "mel_spectrogram = torchaudio.transforms.MelSpectrogram(\n",
    "        sample_rate=SAMPLE_RATE,\n",
    "        n_fft=1024,\n",
    "        hop_length=512,\n",
    "        n_mels=80\n",
    "    )"
   ]
  },
  {
   "cell_type": "code",
   "execution_count": 15,
   "metadata": {
    "colab": {
     "base_uri": "https://localhost:8080/"
    },
    "id": "wwAgYoQ6Tu7I",
    "outputId": "368afce8-cafe-470b-8b57-169c93dce91a"
   },
   "outputs": [
    {
     "data": {
      "text/plain": [
       "(<__main__.AudioFolderCustom at 0x18a94aef340>,\n",
       " <__main__.AudioFolderCustom at 0x18af8108940>)"
      ]
     },
     "execution_count": 15,
     "metadata": {},
     "output_type": "execute_result"
    }
   ],
   "source": [
    "train_data_custom = AudioFolderCustom(train_dir, \n",
    "                                      mel_spectrogram,SAMPLE_RATE,NUM_SAMPLES,device)\n",
    "test_data_custom = AudioFolderCustom(test_dir, \n",
    "                                     mel_spectrogram,SAMPLE_RATE,NUM_SAMPLES,device)\n",
    "train_data_custom, test_data_custom"
   ]
  },
  {
   "cell_type": "code",
   "execution_count": 15,
   "metadata": {
    "colab": {
     "base_uri": "https://localhost:8080/"
    },
    "id": "QkWIAYqxUCv_",
    "outputId": "e685fc2c-8926-42af-afdf-62a555ac8745"
   },
   "outputs": [
    {
     "data": {
      "text/plain": [
       "['female', 'male']"
      ]
     },
     "execution_count": 15,
     "metadata": {},
     "output_type": "execute_result"
    }
   ],
   "source": [
    "train_data_custom.classes"
   ]
  },
  {
   "cell_type": "code",
   "execution_count": 16,
   "metadata": {
    "colab": {
     "base_uri": "https://localhost:8080/"
    },
    "id": "c03SMbOsUGNi",
    "outputId": "d0ab977a-20aa-4a3b-8111-acb43647ba67"
   },
   "outputs": [
    {
     "data": {
      "text/plain": [
       "{'female': 0, 'male': 1}"
      ]
     },
     "execution_count": 16,
     "metadata": {},
     "output_type": "execute_result"
    }
   ],
   "source": [
    "train_data_custom.class_to_idx"
   ]
  },
  {
   "cell_type": "code",
   "execution_count": 17,
   "metadata": {
    "colab": {
     "base_uri": "https://localhost:8080/"
    },
    "id": "NLpLPYH2C7mL",
    "outputId": "e3643e68-096f-4636-bbc6-21e74ebb6440"
   },
   "outputs": [
    {
     "name": "stdout",
     "output_type": "stream",
     "text": [
      "(tensor([[[4.7248e+00, 2.1508e-03, 1.5594e-02,  ..., 1.4085e-04,\n",
      "          2.4772e-05, 5.0970e-05],\n",
      "         [2.5056e+01, 1.1405e-02, 8.2697e-02,  ..., 7.4693e-04,\n",
      "          1.3136e-04, 2.7029e-04],\n",
      "         [2.6981e+01, 3.0922e-01, 6.5375e-01,  ..., 3.2839e-03,\n",
      "          2.0076e-03, 3.5266e-04],\n",
      "         ...,\n",
      "         [6.1151e-03, 5.9384e-07, 7.5762e-07,  ..., 3.4950e-10,\n",
      "          1.7065e-10, 1.1816e-08],\n",
      "         [6.2729e-03, 6.7864e-07, 1.1964e-06,  ..., 6.9198e-10,\n",
      "          5.9133e-10, 1.1520e-08],\n",
      "         [6.0788e-03, 6.1461e-08, 2.1745e-07,  ..., 7.4369e-11,\n",
      "          6.5892e-11, 1.1119e-08]]]), 0) (tensor([[[3.8457e-02, 5.8976e-03, 4.7658e-02,  ..., 8.4874e-03,\n",
      "          1.3708e-02, 1.4897e-03],\n",
      "         [2.0394e-01, 3.1275e-02, 2.5273e-01,  ..., 4.5008e-02,\n",
      "          7.2694e-02, 7.8998e-03],\n",
      "         [7.1196e-04, 1.0215e-01, 1.4342e-01,  ..., 5.0089e-03,\n",
      "          1.7869e-03, 3.5336e-02],\n",
      "         ...,\n",
      "         [2.4455e-03, 1.0294e-05, 2.6047e-06,  ..., 1.4802e-07,\n",
      "          2.9797e-07, 1.3044e-05],\n",
      "         [2.4039e-03, 1.6131e-05, 6.4870e-06,  ..., 2.4293e-07,\n",
      "          2.5943e-07, 1.4345e-05],\n",
      "         [2.4856e-03, 5.7011e-06, 4.3617e-06,  ..., 3.5574e-08,\n",
      "          3.6904e-08, 1.4738e-05]]]), 0)\n"
     ]
    }
   ],
   "source": [
    "print(test_data_custom[0],train_data_custom[0])"
   ]
  },
  {
   "cell_type": "code",
   "execution_count": 18,
   "metadata": {
    "colab": {
     "base_uri": "https://localhost:8080/"
    },
    "id": "sj-AXzroUSNU",
    "outputId": "d99ad1d8-29e5-40af-c5d5-b4d0f7e931c9"
   },
   "outputs": [
    {
     "data": {
      "text/plain": [
       "(<torch.utils.data.dataloader.DataLoader at 0x20fee11bf40>,\n",
       " <torch.utils.data.dataloader.DataLoader at 0x20fee11b1c0>)"
      ]
     },
     "execution_count": 18,
     "metadata": {},
     "output_type": "execute_result"
    }
   ],
   "source": [
    "from torch.utils.data import DataLoader\n",
    "train_dataloader_custom = DataLoader(dataset=train_data_custom,\n",
    "                                     batch_size=64, # how many samples per batch?\n",
    "                                     num_workers=0, # how many subprocesses to use for data loading?\n",
    "                                     shuffle=True) # shuffle the data?\n",
    "\n",
    "test_dataloader_custom = DataLoader(dataset=test_data_custom, # use custom created test Dataset\n",
    "                                    batch_size=64, \n",
    "                                    num_workers=0, \n",
    "                                    shuffle=True) # don't usually need to shuffle testing data\n",
    "\n",
    "train_dataloader_custom, test_dataloader_custom"
   ]
  },
  {
   "cell_type": "code",
   "execution_count": 19,
   "metadata": {
    "colab": {
     "base_uri": "https://localhost:8080/"
    },
    "id": "Ubiz7_nfAbnR",
    "outputId": "64f5ed43-1288-4437-f507-6696c0e73b11"
   },
   "outputs": [
    {
     "name": "stdout",
     "output_type": "stream",
     "text": [
      "There are 244 samples in the dataset.\n",
      "signal: tensor([[[7.4371e-03, 7.5011e-03, 6.0895e-01,  ..., 1.1988e-02,\n",
      "          7.2063e-03, 1.3367e-02],\n",
      "         [3.9439e-02, 3.9778e-02, 3.2293e+00,  ..., 6.3573e-02,\n",
      "          3.8215e-02, 7.0886e-02],\n",
      "         [1.4214e-01, 1.2397e-01, 7.5224e+00,  ..., 2.4372e-02,\n",
      "          2.9462e-04, 3.0268e-04],\n",
      "         ...,\n",
      "         [2.4241e-04, 5.0115e-07, 1.2686e-06,  ..., 8.5612e-07,\n",
      "          1.1237e-06, 4.5896e-05],\n",
      "         [2.3667e-04, 7.7138e-07, 1.9877e-06,  ..., 1.1023e-06,\n",
      "          1.1035e-06, 3.8211e-05],\n",
      "         [2.3666e-04, 1.1477e-07, 1.7577e-07,  ..., 2.2709e-07,\n",
      "          3.3115e-07, 3.5234e-05]]]) signal shape: torch.Size([1, 80, 130])\n",
      "label 0 female\n"
     ]
    }
   ],
   "source": [
    "print(f\"There are {len(train_data_custom)} samples in the dataset.\")\n",
    "signal, label= train_data_custom[5]\n",
    "print(\"signal:\",signal,\"signal shape:\",signal.shape)\n",
    "print(\"label\",label,train_data_custom.classes[label])"
   ]
  },
  {
   "cell_type": "code",
   "execution_count": 20,
   "metadata": {
    "colab": {
     "base_uri": "https://localhost:8080/"
    },
    "id": "9gmrOupjUVqh",
    "outputId": "4675f713-8ca1-41f3-9ae6-692580c0b6e2"
   },
   "outputs": [
    {
     "name": "stdout",
     "output_type": "stream",
     "text": [
      "Audio shape: torch.Size([64, 1, 80, 130]) -> [batch_size, color_channels, height, width]\n",
      "Label shape: torch.Size([64])\n"
     ]
    }
   ],
   "source": [
    "# Get audio and label from custom DataLoader\n",
    "audio_custom, label_custom = next(iter(train_dataloader_custom))\n",
    "\n",
    "\n",
    "print(f\"Audio shape: {audio_custom.shape} -> [batch_size, color_channels, height, width]\")\n",
    "print(f\"Label shape: {label_custom.shape}\")"
   ]
  },
  {
   "cell_type": "code",
   "execution_count": 21,
   "metadata": {
    "id": "ROeHOyR6AbnT"
   },
   "outputs": [],
   "source": [
    "from torch import nn\n",
    "from torchsummary import summary\n",
    "\n",
    "\n",
    "class GenderDetect_V01(nn.Module):\n",
    "\n",
    "    def __init__(self,input_shape: int,output_shape: int):\n",
    "        super().__init__()\n",
    "        # 7 conv blocks / flatten / linear / softmax\n",
    "        self.conv1 = nn.Sequential(\n",
    "            nn.Conv2d(\n",
    "                in_channels=input_shape,\n",
    "                out_channels=30,\n",
    "                kernel_size=2,\n",
    "                stride=1,\n",
    "                padding=2\n",
    "            ),\n",
    "            nn.ReLU(),\n",
    "            nn.MaxPool2d(kernel_size=2)\n",
    "        )\n",
    "        self.conv2 = nn.Sequential(\n",
    "            nn.Conv2d(\n",
    "                in_channels=30,\n",
    "                out_channels=60,\n",
    "                kernel_size=2,\n",
    "                stride=1,\n",
    "                padding=2\n",
    "            ),\n",
    "            nn.ReLU(),\n",
    "            nn.MaxPool2d(kernel_size=2)\n",
    "        )\n",
    "        self.conv3 = nn.Sequential(\n",
    "            nn.Conv2d(\n",
    "                in_channels=60,\n",
    "                out_channels=120,\n",
    "                kernel_size=2,\n",
    "                stride=1,\n",
    "                padding=2\n",
    "            ),\n",
    "            nn.ReLU(),\n",
    "            nn.MaxPool2d(kernel_size=2)\n",
    "        )\n",
    "        self.conv4 = nn.Sequential(\n",
    "            nn.Conv2d(\n",
    "                in_channels=120,\n",
    "                out_channels=240,\n",
    "                kernel_size=2,\n",
    "                stride=1,\n",
    "                padding=2\n",
    "            ),\n",
    "            nn.ReLU(),\n",
    "            nn.MaxPool2d(kernel_size=2)\n",
    "        )\n",
    "        self.conv5 = nn.Sequential(\n",
    "            nn.Conv2d(\n",
    "                in_channels=240,\n",
    "                out_channels=480,\n",
    "                kernel_size=2,\n",
    "                stride=1,\n",
    "                padding=2\n",
    "            ),\n",
    "            nn.ReLU(),\n",
    "            nn.MaxPool2d(kernel_size=2)\n",
    "        )\n",
    "        self.conv6 = nn.Sequential(\n",
    "            nn.Conv2d(\n",
    "                in_channels=480,\n",
    "                out_channels=960,\n",
    "                kernel_size=2,\n",
    "                stride=1,\n",
    "                padding=2\n",
    "            ),\n",
    "            nn.ReLU(),\n",
    "            nn.MaxPool2d(kernel_size=2)\n",
    "        )\n",
    "        self.conv7 = nn.Sequential(\n",
    "            nn.Conv2d(\n",
    "                in_channels=960,\n",
    "                out_channels=1920,\n",
    "                kernel_size=2,\n",
    "                stride=1,\n",
    "                padding=2\n",
    "            ),\n",
    "            nn.ReLU(),\n",
    "            nn.MaxPool2d(kernel_size=2)\n",
    "        )\n",
    "        self.flatten = nn.Flatten()\n",
    "        self.linear = nn.Linear(1920*3*3, 2)\n",
    "        self.softmax = nn.Softmax(dim=1)\n",
    "\n",
    "    def forward(self, x: torch.Tensor):\n",
    "        x = self.conv1(x)\n",
    "        #print(x.shape)\n",
    "        x = self.conv2(x)\n",
    "        #print(x.shape)\n",
    "        x = self.conv3(x)\n",
    "        #print(x.shape)\n",
    "        x = self.conv4(x)\n",
    "        #print(x.shape)\n",
    "        x = self.conv5(x)\n",
    "        #print(x.shape)\n",
    "        x = self.conv6(x)\n",
    "        #print(x.shape)\n",
    "        x = self.conv7(x)\n",
    "        #print(x.shape)\n",
    "        x = self.flatten(x)\n",
    "        #print(x.shape)\n",
    "        x = self.linear(x)\n",
    "        return x\n"
   ]
  },
  {
   "cell_type": "code",
   "execution_count": 22,
   "metadata": {
    "id": "8GxzMgWMAbnU"
   },
   "outputs": [],
   "source": []
  },
  {
   "cell_type": "code",
   "execution_count": 23,
   "metadata": {
    "colab": {
     "base_uri": "https://localhost:8080/"
    },
    "id": "Ex7mEvHkAbnU",
    "outputId": "af0e3664-7ed6-46e3-c33d-706334b25f7f"
   },
   "outputs": [
    {
     "data": {
      "text/plain": [
       "GenderDetect_V01(\n",
       "  (conv1): Sequential(\n",
       "    (0): Conv2d(1, 30, kernel_size=(2, 2), stride=(1, 1), padding=(2, 2))\n",
       "    (1): ReLU()\n",
       "    (2): MaxPool2d(kernel_size=2, stride=2, padding=0, dilation=1, ceil_mode=False)\n",
       "  )\n",
       "  (conv2): Sequential(\n",
       "    (0): Conv2d(30, 60, kernel_size=(2, 2), stride=(1, 1), padding=(2, 2))\n",
       "    (1): ReLU()\n",
       "    (2): MaxPool2d(kernel_size=2, stride=2, padding=0, dilation=1, ceil_mode=False)\n",
       "  )\n",
       "  (conv3): Sequential(\n",
       "    (0): Conv2d(60, 120, kernel_size=(2, 2), stride=(1, 1), padding=(2, 2))\n",
       "    (1): ReLU()\n",
       "    (2): MaxPool2d(kernel_size=2, stride=2, padding=0, dilation=1, ceil_mode=False)\n",
       "  )\n",
       "  (conv4): Sequential(\n",
       "    (0): Conv2d(120, 240, kernel_size=(2, 2), stride=(1, 1), padding=(2, 2))\n",
       "    (1): ReLU()\n",
       "    (2): MaxPool2d(kernel_size=2, stride=2, padding=0, dilation=1, ceil_mode=False)\n",
       "  )\n",
       "  (conv5): Sequential(\n",
       "    (0): Conv2d(240, 480, kernel_size=(2, 2), stride=(1, 1), padding=(2, 2))\n",
       "    (1): ReLU()\n",
       "    (2): MaxPool2d(kernel_size=2, stride=2, padding=0, dilation=1, ceil_mode=False)\n",
       "  )\n",
       "  (conv6): Sequential(\n",
       "    (0): Conv2d(480, 960, kernel_size=(2, 2), stride=(1, 1), padding=(2, 2))\n",
       "    (1): ReLU()\n",
       "    (2): MaxPool2d(kernel_size=2, stride=2, padding=0, dilation=1, ceil_mode=False)\n",
       "  )\n",
       "  (conv7): Sequential(\n",
       "    (0): Conv2d(960, 1920, kernel_size=(2, 2), stride=(1, 1), padding=(2, 2))\n",
       "    (1): ReLU()\n",
       "    (2): MaxPool2d(kernel_size=2, stride=2, padding=0, dilation=1, ceil_mode=False)\n",
       "  )\n",
       "  (flatten): Flatten(start_dim=1, end_dim=-1)\n",
       "  (linear): Linear(in_features=17280, out_features=2, bias=True)\n",
       "  (softmax): Softmax(dim=1)\n",
       ")"
      ]
     },
     "execution_count": 23,
     "metadata": {},
     "output_type": "execute_result"
    }
   ],
   "source": [
    "torch.manual_seed(42)\n",
    "model_0 = GenderDetect_V01(input_shape=1, \n",
    "                  output_shape=len(train_data_custom.classes)).to(device)\n",
    "model_0"
   ]
  },
  {
   "cell_type": "code",
   "execution_count": 24,
   "metadata": {
    "colab": {
     "base_uri": "https://localhost:8080/"
    },
    "id": "OZHjpcfdAbnV",
    "outputId": "f02e6d8d-802d-4341-8a23-d3684d42a5a8"
   },
   "outputs": [
    {
     "data": {
      "text/plain": [
       "==========================================================================================\n",
       "Layer (type:depth-idx)                   Output Shape              Param #\n",
       "==========================================================================================\n",
       "GenderDetect_V01                         [64, 2]                   --\n",
       "├─Sequential: 1-1                        [64, 30, 41, 66]          --\n",
       "│    └─Conv2d: 2-1                       [64, 30, 83, 133]         150\n",
       "│    └─ReLU: 2-2                         [64, 30, 83, 133]         --\n",
       "│    └─MaxPool2d: 2-3                    [64, 30, 41, 66]          --\n",
       "├─Sequential: 1-2                        [64, 60, 22, 34]          --\n",
       "│    └─Conv2d: 2-4                       [64, 60, 44, 69]          7,260\n",
       "│    └─ReLU: 2-5                         [64, 60, 44, 69]          --\n",
       "│    └─MaxPool2d: 2-6                    [64, 60, 22, 34]          --\n",
       "├─Sequential: 1-3                        [64, 120, 12, 18]         --\n",
       "│    └─Conv2d: 2-7                       [64, 120, 25, 37]         28,920\n",
       "│    └─ReLU: 2-8                         [64, 120, 25, 37]         --\n",
       "│    └─MaxPool2d: 2-9                    [64, 120, 12, 18]         --\n",
       "├─Sequential: 1-4                        [64, 240, 7, 10]          --\n",
       "│    └─Conv2d: 2-10                      [64, 240, 15, 21]         115,440\n",
       "│    └─ReLU: 2-11                        [64, 240, 15, 21]         --\n",
       "│    └─MaxPool2d: 2-12                   [64, 240, 7, 10]          --\n",
       "├─Sequential: 1-5                        [64, 480, 5, 6]           --\n",
       "│    └─Conv2d: 2-13                      [64, 480, 10, 13]         461,280\n",
       "│    └─ReLU: 2-14                        [64, 480, 10, 13]         --\n",
       "│    └─MaxPool2d: 2-15                   [64, 480, 5, 6]           --\n",
       "├─Sequential: 1-6                        [64, 960, 4, 4]           --\n",
       "│    └─Conv2d: 2-16                      [64, 960, 8, 9]           1,844,160\n",
       "│    └─ReLU: 2-17                        [64, 960, 8, 9]           --\n",
       "│    └─MaxPool2d: 2-18                   [64, 960, 4, 4]           --\n",
       "├─Sequential: 1-7                        [64, 1920, 3, 3]          --\n",
       "│    └─Conv2d: 2-19                      [64, 1920, 7, 7]          7,374,720\n",
       "│    └─ReLU: 2-20                        [64, 1920, 7, 7]          --\n",
       "│    └─MaxPool2d: 2-21                   [64, 1920, 3, 3]          --\n",
       "├─Flatten: 1-8                           [64, 17280]               --\n",
       "├─Linear: 1-9                            [64, 2]                   34,562\n",
       "==========================================================================================\n",
       "Total params: 9,866,492\n",
       "Trainable params: 9,866,492\n",
       "Non-trainable params: 0\n",
       "Total mult-adds (G): 41.02\n",
       "==========================================================================================\n",
       "Input size (MB): 2.66\n",
       "Forward/backward pass size (MB): 473.87\n",
       "Params size (MB): 39.47\n",
       "Estimated Total Size (MB): 516.00\n",
       "=========================================================================================="
      ]
     },
     "execution_count": 24,
     "metadata": {},
     "output_type": "execute_result"
    }
   ],
   "source": [
    "#!pip install torchinfo\n",
    "import torchinfo\n",
    "from torchinfo import summary\n",
    "summary(model_0, input_size=[64, 1, 80, 130])"
   ]
  },
  {
   "cell_type": "code",
   "execution_count": 25,
   "metadata": {
    "id": "UO05yY3nAbnW"
   },
   "outputs": [],
   "source": [
    "def train_step(scheduler,model: torch.nn.Module, \n",
    "               dataloader: torch.utils.data.DataLoader, \n",
    "               loss_fn: torch.nn.Module, \n",
    "               optimizer: torch.optim.Optimizer):\n",
    "    # Put model in train mode\n",
    "    model.train()\n",
    "    \n",
    "    # Setup train loss and train accuracy values\n",
    "    train_loss, train_acc = 0, 0\n",
    "    \n",
    "    # Loop through data loader data batches\n",
    "    for batch, (X, y) in enumerate(dataloader):\n",
    "        # Send data to target device\n",
    "        X, y = X.to(device), y.to(device)\n",
    "\n",
    "        # 1. Forward pass\n",
    "        y_pred = model(X)\n",
    "\n",
    "        # 2. Calculate  and accumulate loss\n",
    "        loss = loss_fn(y_pred, y)\n",
    "        train_loss += loss.item() \n",
    "\n",
    "        # 3. Optimizer zero grad\n",
    "        optimizer.zero_grad()\n",
    "\n",
    "        # 4. Backpropagation\n",
    "        loss.backward()\n",
    "\n",
    "        # 5. Optimizer step\n",
    "        optimizer.step()\n",
    "\n",
    "        # Calculate and accumulate accuracy metric across all batches\n",
    "        y_pred_class = torch.argmax(torch.softmax(y_pred, dim=1), dim=1)\n",
    "        train_acc += (y_pred_class == y).sum().item()/len(y_pred)\n",
    "\n",
    "    # Adjust metrics to get average loss and accuracy per batch \n",
    "    train_loss = train_loss / len(dataloader)\n",
    "    #scheduler.step(train_loss)\n",
    "    train_acc = train_acc / len(dataloader)\n",
    "    return train_loss, train_acc"
   ]
  },
  {
   "cell_type": "code",
   "execution_count": 26,
   "metadata": {
    "id": "W34iRWdbAbnX"
   },
   "outputs": [],
   "source": [
    "def test_step(scheduler,model: torch.nn.Module, \n",
    "              dataloader: torch.utils.data.DataLoader, \n",
    "              loss_fn: torch.nn.Module):\n",
    "    # Put model in eval mode\n",
    "    model.eval() \n",
    "    \n",
    "    # Setup test loss and test accuracy values\n",
    "    test_loss, test_acc = 0, 0\n",
    "    \n",
    "    # Turn on inference context manager\n",
    "    with torch.inference_mode():\n",
    "        # Loop through DataLoader batches\n",
    "        for batch, (X, y) in enumerate(dataloader):\n",
    "            # Send data to target device\n",
    "            X, y = X.to(device), y.to(device)\n",
    "    \n",
    "            # 1. Forward pass\n",
    "            test_pred_logits = model(X)\n",
    "\n",
    "            # 2. Calculate and accumulate loss\n",
    "            loss = loss_fn(test_pred_logits, y)\n",
    "            test_loss += loss.item()\n",
    "            \n",
    "            # Calculate and accumulate accuracy\n",
    "            test_pred_labels = test_pred_logits.argmax(dim=1)\n",
    "            test_acc += ((test_pred_labels == y).sum().item()/len(test_pred_labels))\n",
    "            \n",
    "    # Adjust metrics to get average loss and accuracy per batch \n",
    "    test_loss = test_loss / len(dataloader)\n",
    "    scheduler.step(test_loss)\n",
    "    test_acc = test_acc / len(dataloader)\n",
    "    return test_loss, test_acc"
   ]
  },
  {
   "cell_type": "code",
   "execution_count": 27,
   "metadata": {
    "id": "qYKLHKgzAbnY"
   },
   "outputs": [],
   "source": [
    "from tqdm.auto import tqdm\n",
    "\n",
    "# 1. Take in various parameters required for training and test steps\n",
    "def train(scheduler,model: torch.nn.Module, \n",
    "          train_dataloader: torch.utils.data.DataLoader, \n",
    "          test_dataloader: torch.utils.data.DataLoader, \n",
    "          optimizer: torch.optim.Optimizer,\n",
    "          loss_fn: torch.nn.Module = nn.CrossEntropyLoss(),\n",
    "          epochs: int = 5):\n",
    "    \n",
    "    # 2. Create empty results dictionary\n",
    "    results = {\"train_loss\": [],\n",
    "        \"train_acc\": [],\n",
    "        \"test_loss\": [],\n",
    "        \"test_acc\": []\n",
    "    }\n",
    "    \n",
    "    # 3. Loop through training and testing steps for a number of epochs\n",
    "    for epoch in tqdm(range(epochs)):\n",
    "        train_loss, train_acc = train_step(scheduler,model=model,\n",
    "                                           dataloader=train_dataloader,\n",
    "                                           loss_fn=loss_fn,\n",
    "                                           optimizer=optimizer)\n",
    "        test_loss, test_acc = test_step(scheduler,model=model,\n",
    "            dataloader=test_dataloader,\n",
    "            loss_fn=loss_fn)\n",
    "        \n",
    "        # 4. Print out what's happening\n",
    "        print(\n",
    "            f\"Epoch: {epoch+1} | \"\n",
    "            f\"train_loss: {train_loss:.4f} | \"\n",
    "            f\"train_acc: {train_acc:.4f} | \"\n",
    "            f\"test_loss: {test_loss:.4f} | \"\n",
    "            f\"test_acc: {test_acc:.4f}\"\n",
    "        )\n",
    "\n",
    "        # 5. Update results dictionary\n",
    "        results[\"train_loss\"].append(train_loss)\n",
    "        results[\"train_acc\"].append(train_acc)\n",
    "        results[\"test_loss\"].append(test_loss)\n",
    "        results[\"test_acc\"].append(test_acc)\n",
    "\n",
    "    # 6. Return the filled results at the end of the epochs\n",
    "    return results"
   ]
  },
  {
   "cell_type": "code",
   "execution_count": 36,
   "metadata": {
    "colab": {
     "base_uri": "https://localhost:8080/",
     "height": 724,
     "referenced_widgets": [
      "2747a4502e3a450599de7492a7393b4d",
      "5c16aff0fac641ca80bc79b2c25a12ef",
      "ec2e3e0805bc42f29a6056235d925869",
      "3c214bc3115247f899b1cbf410c627e1",
      "f1a28604dc94469c943b0bfee48c05ad",
      "8894d7502e9b4459a557cfa86477ea4f",
      "b9f6f85cf49a4cca8433e6799eec60e6",
      "4b61804a1c644e969d5adcafd4b8b3fc",
      "59c29ca8c2c34d7d9a5a9410a695fd93",
      "57b14b3174b64552a4eeada6779141d3",
      "29f7f34a18a642499f1b3695a016fe68"
     ]
    },
    "id": "HkKLS9s3AbnY",
    "outputId": "8b959b93-34bd-41a0-b3ce-6d339c012678"
   },
   "outputs": [],
   "source": [
    "def run():\n",
    "    # Set random seeds\n",
    "    torch.manual_seed(42) \n",
    "    torch.cuda.manual_seed(42)\n",
    "\n",
    "    # Set number of epochs\n",
    "    NUM_EPOCHS = 100\n",
    "\n",
    "    # Recreate an instance of GenderDetect_V01\n",
    "    model_0 = GenderDetect_V01(input_shape=1,\n",
    "                      output_shape=len(train_data_custom.classes)).to(device)\n",
    "\n",
    "    # Setup loss function and optimizer\n",
    "    loss_fn = nn.CrossEntropyLoss()\n",
    "    optimizer = torch.optim.Adam(params=model_0.parameters(), lr=0.001)\n",
    "    scheduler = torch.optim.lr_scheduler.ReduceLROnPlateau(optimizer,factor = 0.1,patience = 8,verbose = True)\n",
    "    # Start the timer\n",
    "    from timeit import default_timer as timer \n",
    "    start_time = timer()\n",
    "\n",
    "    # Train model_0 \n",
    "    model_0_results = train(scheduler,model=model_0, \n",
    "                            train_dataloader=train_dataloader_custom,\n",
    "                            test_dataloader=test_dataloader_custom,\n",
    "                            optimizer=optimizer,\n",
    "                            loss_fn=loss_fn, \n",
    "                            epochs=NUM_EPOCHS)\n",
    "\n",
    "    # End the timer and print out how long it took\n",
    "    end_time = timer()\n",
    "    print(f\"Total training time: {end_time-start_time:.3f} seconds\")\n",
    "    return model_0_results"
   ]
  },
  {
   "cell_type": "code",
   "execution_count": 37,
   "metadata": {},
   "outputs": [
    {
     "name": "stderr",
     "output_type": "stream",
     "text": [
      "  1%|▊                                                                               | 1/100 [00:38<1:03:43, 38.62s/it]"
     ]
    },
    {
     "name": "stdout",
     "output_type": "stream",
     "text": [
      "Epoch: 1 | train_loss: 219.1967 | train_acc: 0.4991 | test_loss: 0.9261 | test_acc: 0.5132\n"
     ]
    },
    {
     "name": "stderr",
     "output_type": "stream",
     "text": [
      "\r",
      "  2%|█▌                                                                              | 2/100 [01:16<1:02:27, 38.24s/it]"
     ]
    },
    {
     "name": "stdout",
     "output_type": "stream",
     "text": [
      "Epoch: 2 | train_loss: 1.1266 | train_acc: 0.5033 | test_loss: 0.6338 | test_acc: 0.5238\n"
     ]
    },
    {
     "name": "stderr",
     "output_type": "stream",
     "text": [
      "\r",
      "  3%|██▍                                                                             | 3/100 [01:56<1:02:55, 38.92s/it]"
     ]
    },
    {
     "name": "stdout",
     "output_type": "stream",
     "text": [
      "Epoch: 3 | train_loss: 0.7026 | train_acc: 0.5204 | test_loss: 0.6899 | test_acc: 0.4560\n"
     ]
    },
    {
     "name": "stderr",
     "output_type": "stream",
     "text": [
      "\r",
      "  4%|███▏                                                                            | 4/100 [02:33<1:00:58, 38.11s/it]"
     ]
    },
    {
     "name": "stdout",
     "output_type": "stream",
     "text": [
      "Epoch: 4 | train_loss: 0.6830 | train_acc: 0.5303 | test_loss: 0.7116 | test_acc: 0.5366\n"
     ]
    },
    {
     "name": "stderr",
     "output_type": "stream",
     "text": [
      "\r",
      "  5%|████                                                                              | 5/100 [03:10<59:55, 37.84s/it]"
     ]
    },
    {
     "name": "stdout",
     "output_type": "stream",
     "text": [
      "Epoch: 5 | train_loss: 0.6325 | train_acc: 0.5895 | test_loss: 0.6188 | test_acc: 0.6205\n"
     ]
    },
    {
     "name": "stderr",
     "output_type": "stream",
     "text": [
      "\r",
      "  6%|████▊                                                                           | 6/100 [03:52<1:01:16, 39.11s/it]"
     ]
    },
    {
     "name": "stdout",
     "output_type": "stream",
     "text": [
      "Epoch: 6 | train_loss: 0.6040 | train_acc: 0.6283 | test_loss: 0.6695 | test_acc: 0.6912\n"
     ]
    },
    {
     "name": "stderr",
     "output_type": "stream",
     "text": [
      "\r",
      "  7%|█████▋                                                                            | 7/100 [04:28<59:18, 38.27s/it]"
     ]
    },
    {
     "name": "stdout",
     "output_type": "stream",
     "text": [
      "Epoch: 7 | train_loss: 0.5561 | train_acc: 0.6448 | test_loss: 0.9396 | test_acc: 0.5362\n"
     ]
    },
    {
     "name": "stderr",
     "output_type": "stream",
     "text": [
      "\r",
      "  8%|██████▌                                                                           | 8/100 [05:05<58:06, 37.90s/it]"
     ]
    },
    {
     "name": "stdout",
     "output_type": "stream",
     "text": [
      "Epoch: 8 | train_loss: 0.5478 | train_acc: 0.6556 | test_loss: 0.6449 | test_acc: 0.6752\n"
     ]
    },
    {
     "name": "stderr",
     "output_type": "stream",
     "text": [
      "\r",
      "  9%|███████▍                                                                          | 9/100 [05:44<57:42, 38.05s/it]"
     ]
    },
    {
     "name": "stdout",
     "output_type": "stream",
     "text": [
      "Epoch: 9 | train_loss: 0.5286 | train_acc: 0.6797 | test_loss: 0.6374 | test_acc: 0.7015\n"
     ]
    },
    {
     "name": "stderr",
     "output_type": "stream",
     "text": [
      "\r",
      " 10%|████████                                                                         | 10/100 [06:28<59:55, 39.95s/it]"
     ]
    },
    {
     "name": "stdout",
     "output_type": "stream",
     "text": [
      "Epoch: 10 | train_loss: 0.4756 | train_acc: 0.7091 | test_loss: 0.7920 | test_acc: 0.6521\n"
     ]
    },
    {
     "name": "stderr",
     "output_type": "stream",
     "text": [
      "\r",
      " 11%|████████▉                                                                        | 11/100 [07:07<58:48, 39.65s/it]"
     ]
    },
    {
     "name": "stdout",
     "output_type": "stream",
     "text": [
      "Epoch: 11 | train_loss: 0.4400 | train_acc: 0.7341 | test_loss: 0.6707 | test_acc: 0.7225\n"
     ]
    },
    {
     "name": "stderr",
     "output_type": "stream",
     "text": [
      "\r",
      " 12%|█████████▋                                                                       | 12/100 [07:46<58:07, 39.63s/it]"
     ]
    },
    {
     "name": "stdout",
     "output_type": "stream",
     "text": [
      "Epoch: 12 | train_loss: 0.3939 | train_acc: 0.7800 | test_loss: 0.8779 | test_acc: 0.6180\n"
     ]
    },
    {
     "name": "stderr",
     "output_type": "stream",
     "text": [
      "\r",
      " 13%|██████████▌                                                                      | 13/100 [08:25<57:13, 39.46s/it]"
     ]
    },
    {
     "name": "stdout",
     "output_type": "stream",
     "text": [
      "Epoch: 13 | train_loss: 0.3416 | train_acc: 0.8194 | test_loss: 0.7757 | test_acc: 0.7488\n"
     ]
    },
    {
     "name": "stderr",
     "output_type": "stream",
     "text": [
      "\r",
      " 14%|███████████▎                                                                     | 14/100 [09:03<55:41, 38.86s/it]"
     ]
    },
    {
     "name": "stdout",
     "output_type": "stream",
     "text": [
      "Epoch 00014: reducing learning rate of group 0 to 1.0000e-04.\n",
      "Epoch: 14 | train_loss: 0.3025 | train_acc: 0.8278 | test_loss: 1.0525 | test_acc: 0.6863\n"
     ]
    },
    {
     "name": "stderr",
     "output_type": "stream",
     "text": [
      "\r",
      " 15%|████████████▏                                                                    | 15/100 [09:40<54:21, 38.38s/it]"
     ]
    },
    {
     "name": "stdout",
     "output_type": "stream",
     "text": [
      "Epoch: 15 | train_loss: 0.3676 | train_acc: 0.7945 | test_loss: 0.7470 | test_acc: 0.7541\n"
     ]
    },
    {
     "name": "stderr",
     "output_type": "stream",
     "text": [
      "\r",
      " 16%|████████████▉                                                                    | 16/100 [10:18<53:34, 38.27s/it]"
     ]
    },
    {
     "name": "stdout",
     "output_type": "stream",
     "text": [
      "Epoch: 16 | train_loss: 0.2628 | train_acc: 0.8900 | test_loss: 1.1783 | test_acc: 0.6443\n"
     ]
    },
    {
     "name": "stderr",
     "output_type": "stream",
     "text": [
      "\r",
      " 17%|█████████████▊                                                                   | 17/100 [10:57<53:07, 38.41s/it]"
     ]
    },
    {
     "name": "stdout",
     "output_type": "stream",
     "text": [
      "Epoch: 17 | train_loss: 0.2962 | train_acc: 0.8311 | test_loss: 1.2246 | test_acc: 0.6308\n"
     ]
    },
    {
     "name": "stderr",
     "output_type": "stream",
     "text": [
      "\r",
      " 18%|██████████████▌                                                                  | 18/100 [11:39<53:55, 39.45s/it]"
     ]
    },
    {
     "name": "stdout",
     "output_type": "stream",
     "text": [
      "Epoch: 18 | train_loss: 0.2612 | train_acc: 0.8645 | test_loss: 0.8468 | test_acc: 0.6990\n"
     ]
    },
    {
     "name": "stderr",
     "output_type": "stream",
     "text": [
      "\r",
      " 19%|███████████████▍                                                                 | 19/100 [12:19<53:29, 39.62s/it]"
     ]
    },
    {
     "name": "stdout",
     "output_type": "stream",
     "text": [
      "Epoch: 19 | train_loss: 0.2493 | train_acc: 0.9017 | test_loss: 0.7446 | test_acc: 0.7463\n"
     ]
    },
    {
     "name": "stderr",
     "output_type": "stream",
     "text": [
      "\r",
      " 20%|████████████████▏                                                                | 20/100 [12:57<52:12, 39.15s/it]"
     ]
    },
    {
     "name": "stdout",
     "output_type": "stream",
     "text": [
      "Epoch: 20 | train_loss: 0.2502 | train_acc: 0.8978 | test_loss: 0.8389 | test_acc: 0.7225\n"
     ]
    },
    {
     "name": "stderr",
     "output_type": "stream",
     "text": [
      "\r",
      " 21%|█████████████████                                                                | 21/100 [13:36<51:24, 39.05s/it]"
     ]
    },
    {
     "name": "stdout",
     "output_type": "stream",
     "text": [
      "Epoch: 21 | train_loss: 0.2467 | train_acc: 0.9105 | test_loss: 0.8711 | test_acc: 0.7356\n"
     ]
    },
    {
     "name": "stderr",
     "output_type": "stream",
     "text": [
      "\r",
      " 22%|█████████████████▊                                                               | 22/100 [14:13<49:55, 38.40s/it]"
     ]
    },
    {
     "name": "stdout",
     "output_type": "stream",
     "text": [
      "Epoch: 22 | train_loss: 0.2323 | train_acc: 0.9123 | test_loss: 0.7999 | test_acc: 0.7697\n"
     ]
    },
    {
     "name": "stderr",
     "output_type": "stream",
     "text": [
      "\r",
      " 23%|██████████████████▋                                                              | 23/100 [14:51<49:22, 38.48s/it]"
     ]
    },
    {
     "name": "stdout",
     "output_type": "stream",
     "text": [
      "Epoch 00023: reducing learning rate of group 0 to 1.0000e-05.\n",
      "Epoch: 23 | train_loss: 0.2259 | train_acc: 0.9192 | test_loss: 0.8270 | test_acc: 0.7278\n"
     ]
    },
    {
     "name": "stderr",
     "output_type": "stream",
     "text": [
      "\r",
      " 24%|███████████████████▍                                                             | 24/100 [15:30<48:46, 38.51s/it]"
     ]
    },
    {
     "name": "stdout",
     "output_type": "stream",
     "text": [
      "Epoch: 24 | train_loss: 0.2251 | train_acc: 0.9029 | test_loss: 0.9099 | test_acc: 0.6986\n"
     ]
    },
    {
     "name": "stderr",
     "output_type": "stream",
     "text": [
      "\r",
      " 25%|████████████████████▎                                                            | 25/100 [16:08<48:02, 38.44s/it]"
     ]
    },
    {
     "name": "stdout",
     "output_type": "stream",
     "text": [
      "Epoch: 25 | train_loss: 0.2246 | train_acc: 0.9047 | test_loss: 0.8510 | test_acc: 0.7327\n"
     ]
    },
    {
     "name": "stderr",
     "output_type": "stream",
     "text": [
      "\r",
      " 26%|█████████████████████                                                            | 26/100 [16:47<47:24, 38.44s/it]"
     ]
    },
    {
     "name": "stdout",
     "output_type": "stream",
     "text": [
      "Epoch: 26 | train_loss: 0.2306 | train_acc: 0.9026 | test_loss: 0.8938 | test_acc: 0.7648\n"
     ]
    },
    {
     "name": "stderr",
     "output_type": "stream",
     "text": [
      "\r",
      " 27%|█████████████████████▊                                                           | 27/100 [17:26<47:16, 38.86s/it]"
     ]
    },
    {
     "name": "stdout",
     "output_type": "stream",
     "text": [
      "Epoch: 27 | train_loss: 0.2266 | train_acc: 0.9017 | test_loss: 0.7939 | test_acc: 0.7566\n"
     ]
    },
    {
     "name": "stderr",
     "output_type": "stream",
     "text": [
      "\r",
      " 28%|██████████████████████▋                                                          | 28/100 [18:03<45:56, 38.29s/it]"
     ]
    },
    {
     "name": "stdout",
     "output_type": "stream",
     "text": [
      "Epoch: 28 | train_loss: 0.2267 | train_acc: 0.9183 | test_loss: 0.8342 | test_acc: 0.7619\n"
     ]
    },
    {
     "name": "stderr",
     "output_type": "stream",
     "text": [
      "\r",
      " 29%|███████████████████████▍                                                         | 29/100 [18:41<44:58, 38.01s/it]"
     ]
    },
    {
     "name": "stdout",
     "output_type": "stream",
     "text": [
      "Epoch: 29 | train_loss: 0.2214 | train_acc: 0.9165 | test_loss: 0.6995 | test_acc: 0.7780\n"
     ]
    },
    {
     "name": "stderr",
     "output_type": "stream",
     "text": [
      "\r",
      " 30%|████████████████████████▎                                                        | 30/100 [19:18<43:59, 37.70s/it]"
     ]
    },
    {
     "name": "stdout",
     "output_type": "stream",
     "text": [
      "Epoch: 30 | train_loss: 0.2189 | train_acc: 0.9201 | test_loss: 0.7309 | test_acc: 0.7619\n"
     ]
    },
    {
     "name": "stderr",
     "output_type": "stream",
     "text": [
      "\r",
      " 31%|█████████████████████████                                                        | 31/100 [19:55<43:12, 37.58s/it]"
     ]
    },
    {
     "name": "stdout",
     "output_type": "stream",
     "text": [
      "Epoch: 31 | train_loss: 0.2181 | train_acc: 0.9210 | test_loss: 0.7843 | test_acc: 0.7541\n"
     ]
    },
    {
     "name": "stderr",
     "output_type": "stream",
     "text": [
      "\r",
      " 32%|█████████████████████████▉                                                       | 32/100 [20:34<43:02, 37.98s/it]"
     ]
    },
    {
     "name": "stdout",
     "output_type": "stream",
     "text": [
      "Epoch 00032: reducing learning rate of group 0 to 1.0000e-06.\n",
      "Epoch: 32 | train_loss: 0.2160 | train_acc: 0.9084 | test_loss: 0.8312 | test_acc: 0.7327\n"
     ]
    },
    {
     "name": "stderr",
     "output_type": "stream",
     "text": [
      "\r",
      " 33%|██████████████████████████▋                                                      | 33/100 [21:12<42:24, 37.97s/it]"
     ]
    },
    {
     "name": "stdout",
     "output_type": "stream",
     "text": [
      "Epoch: 33 | train_loss: 0.2206 | train_acc: 0.9075 | test_loss: 0.8797 | test_acc: 0.7726\n"
     ]
    },
    {
     "name": "stderr",
     "output_type": "stream",
     "text": [
      "\r",
      " 34%|███████████████████████████▌                                                     | 34/100 [21:49<41:21, 37.59s/it]"
     ]
    },
    {
     "name": "stdout",
     "output_type": "stream",
     "text": [
      "Epoch: 34 | train_loss: 0.2198 | train_acc: 0.9078 | test_loss: 0.7908 | test_acc: 0.7595\n"
     ]
    },
    {
     "name": "stderr",
     "output_type": "stream",
     "text": [
      "\r",
      " 35%|████████████████████████████▎                                                    | 35/100 [22:26<40:45, 37.62s/it]"
     ]
    },
    {
     "name": "stdout",
     "output_type": "stream",
     "text": [
      "Epoch: 35 | train_loss: 0.2195 | train_acc: 0.9105 | test_loss: 0.8547 | test_acc: 0.7381\n"
     ]
    },
    {
     "name": "stderr",
     "output_type": "stream",
     "text": [
      "\r",
      " 36%|█████████████████████████████▏                                                   | 36/100 [23:04<40:18, 37.79s/it]"
     ]
    },
    {
     "name": "stdout",
     "output_type": "stream",
     "text": [
      "Epoch: 36 | train_loss: 0.2193 | train_acc: 0.9078 | test_loss: 0.8547 | test_acc: 0.7459\n"
     ]
    },
    {
     "name": "stderr",
     "output_type": "stream",
     "text": [
      "\r",
      " 37%|█████████████████████████████▉                                                   | 37/100 [23:43<39:52, 37.97s/it]"
     ]
    },
    {
     "name": "stdout",
     "output_type": "stream",
     "text": [
      "Epoch: 37 | train_loss: 0.2231 | train_acc: 0.9126 | test_loss: 0.8873 | test_acc: 0.7356\n"
     ]
    },
    {
     "name": "stderr",
     "output_type": "stream",
     "text": [
      "\r",
      " 38%|██████████████████████████████▊                                                  | 38/100 [24:21<39:26, 38.16s/it]"
     ]
    },
    {
     "name": "stdout",
     "output_type": "stream",
     "text": [
      "Epoch: 38 | train_loss: 0.2224 | train_acc: 0.9135 | test_loss: 0.8303 | test_acc: 0.7196\n"
     ]
    },
    {
     "name": "stderr",
     "output_type": "stream",
     "text": [
      "\r",
      " 39%|███████████████████████████████▌                                                 | 39/100 [25:00<38:54, 38.27s/it]"
     ]
    },
    {
     "name": "stdout",
     "output_type": "stream",
     "text": [
      "Epoch: 39 | train_loss: 0.2239 | train_acc: 0.9075 | test_loss: 0.8028 | test_acc: 0.7459\n"
     ]
    },
    {
     "name": "stderr",
     "output_type": "stream",
     "text": [
      "\r",
      " 40%|████████████████████████████████▍                                                | 40/100 [25:38<38:21, 38.35s/it]"
     ]
    },
    {
     "name": "stdout",
     "output_type": "stream",
     "text": [
      "Epoch: 40 | train_loss: 0.2193 | train_acc: 0.9135 | test_loss: 0.8674 | test_acc: 0.7488\n"
     ]
    },
    {
     "name": "stderr",
     "output_type": "stream",
     "text": [
      "\r",
      " 41%|█████████████████████████████████▏                                               | 41/100 [26:16<37:35, 38.23s/it]"
     ]
    },
    {
     "name": "stdout",
     "output_type": "stream",
     "text": [
      "Epoch 00041: reducing learning rate of group 0 to 1.0000e-07.\n",
      "Epoch: 41 | train_loss: 0.2222 | train_acc: 0.9017 | test_loss: 0.7522 | test_acc: 0.7488\n"
     ]
    },
    {
     "name": "stderr",
     "output_type": "stream",
     "text": [
      "\r",
      " 42%|██████████████████████████████████                                               | 42/100 [26:55<36:57, 38.23s/it]"
     ]
    },
    {
     "name": "stdout",
     "output_type": "stream",
     "text": [
      "Epoch: 42 | train_loss: 0.2232 | train_acc: 0.9192 | test_loss: 0.8778 | test_acc: 0.7488\n"
     ]
    },
    {
     "name": "stderr",
     "output_type": "stream",
     "text": [
      "\r",
      " 43%|██████████████████████████████████▊                                              | 43/100 [27:32<36:03, 37.96s/it]"
     ]
    },
    {
     "name": "stdout",
     "output_type": "stream",
     "text": [
      "Epoch: 43 | train_loss: 0.2204 | train_acc: 0.9183 | test_loss: 0.6693 | test_acc: 0.7619\n"
     ]
    },
    {
     "name": "stderr",
     "output_type": "stream",
     "text": [
      "\r",
      " 44%|███████████████████████████████████▋                                             | 44/100 [28:14<36:30, 39.12s/it]"
     ]
    },
    {
     "name": "stdout",
     "output_type": "stream",
     "text": [
      "Epoch: 44 | train_loss: 0.2239 | train_acc: 0.9183 | test_loss: 0.7496 | test_acc: 0.7673\n"
     ]
    },
    {
     "name": "stderr",
     "output_type": "stream",
     "text": [
      "\r",
      " 45%|████████████████████████████████████▍                                            | 45/100 [28:54<36:10, 39.46s/it]"
     ]
    },
    {
     "name": "stdout",
     "output_type": "stream",
     "text": [
      "Epoch: 45 | train_loss: 0.2227 | train_acc: 0.9144 | test_loss: 0.8692 | test_acc: 0.7356\n"
     ]
    },
    {
     "name": "stderr",
     "output_type": "stream",
     "text": [
      "\r",
      " 46%|█████████████████████████████████████▎                                           | 46/100 [29:33<35:29, 39.43s/it]"
     ]
    },
    {
     "name": "stdout",
     "output_type": "stream",
     "text": [
      "Epoch: 46 | train_loss: 0.2199 | train_acc: 0.9123 | test_loss: 0.7711 | test_acc: 0.7751\n"
     ]
    },
    {
     "name": "stderr",
     "output_type": "stream",
     "text": [
      "\r",
      " 47%|██████████████████████████████████████                                           | 47/100 [30:12<34:30, 39.07s/it]"
     ]
    },
    {
     "name": "stdout",
     "output_type": "stream",
     "text": [
      "Epoch: 47 | train_loss: 0.2190 | train_acc: 0.9008 | test_loss: 0.8940 | test_acc: 0.7434\n"
     ]
    },
    {
     "name": "stderr",
     "output_type": "stream",
     "text": [
      "\r",
      " 48%|██████████████████████████████████████▉                                          | 48/100 [30:51<33:59, 39.21s/it]"
     ]
    },
    {
     "name": "stdout",
     "output_type": "stream",
     "text": [
      "Epoch: 48 | train_loss: 0.2204 | train_acc: 0.9008 | test_loss: 0.7565 | test_acc: 0.7858\n"
     ]
    },
    {
     "name": "stderr",
     "output_type": "stream",
     "text": [
      "\r",
      " 49%|███████████████████████████████████████▋                                         | 49/100 [31:30<33:15, 39.13s/it]"
     ]
    },
    {
     "name": "stdout",
     "output_type": "stream",
     "text": [
      "Epoch: 49 | train_loss: 0.2213 | train_acc: 0.9069 | test_loss: 0.8039 | test_acc: 0.7459\n"
     ]
    },
    {
     "name": "stderr",
     "output_type": "stream",
     "text": [
      "\r",
      " 50%|████████████████████████████████████████▌                                        | 50/100 [32:08<32:24, 38.89s/it]"
     ]
    },
    {
     "name": "stdout",
     "output_type": "stream",
     "text": [
      "Epoch 00050: reducing learning rate of group 0 to 1.0000e-08.\n",
      "Epoch: 50 | train_loss: 0.2145 | train_acc: 0.9144 | test_loss: 0.8099 | test_acc: 0.7755\n"
     ]
    },
    {
     "name": "stderr",
     "output_type": "stream",
     "text": [
      "\r",
      " 51%|█████████████████████████████████████████▎                                       | 51/100 [32:48<31:54, 39.07s/it]"
     ]
    },
    {
     "name": "stdout",
     "output_type": "stream",
     "text": [
      "Epoch: 51 | train_loss: 0.2204 | train_acc: 0.9222 | test_loss: 0.8535 | test_acc: 0.7488\n"
     ]
    },
    {
     "name": "stderr",
     "output_type": "stream",
     "text": [
      "\r",
      " 52%|██████████████████████████████████████████                                       | 52/100 [33:27<31:16, 39.10s/it]"
     ]
    },
    {
     "name": "stdout",
     "output_type": "stream",
     "text": [
      "Epoch: 52 | train_loss: 0.2184 | train_acc: 0.9056 | test_loss: 0.7850 | test_acc: 0.7673\n"
     ]
    },
    {
     "name": "stderr",
     "output_type": "stream",
     "text": [
      "\r",
      " 53%|██████████████████████████████████████████▉                                      | 53/100 [34:05<30:26, 38.86s/it]"
     ]
    },
    {
     "name": "stdout",
     "output_type": "stream",
     "text": [
      "Epoch: 53 | train_loss: 0.2168 | train_acc: 0.9192 | test_loss: 0.7796 | test_acc: 0.7566\n"
     ]
    },
    {
     "name": "stderr",
     "output_type": "stream",
     "text": [
      "\r",
      " 54%|███████████████████████████████████████████▋                                     | 54/100 [34:44<29:42, 38.76s/it]"
     ]
    },
    {
     "name": "stdout",
     "output_type": "stream",
     "text": [
      "Epoch: 54 | train_loss: 0.2196 | train_acc: 0.9135 | test_loss: 0.8701 | test_acc: 0.7249\n"
     ]
    },
    {
     "name": "stderr",
     "output_type": "stream",
     "text": [
      "\r",
      " 55%|████████████████████████████████████████████▌                                    | 55/100 [35:21<28:43, 38.31s/it]"
     ]
    },
    {
     "name": "stdout",
     "output_type": "stream",
     "text": [
      "Epoch: 55 | train_loss: 0.2149 | train_acc: 0.9231 | test_loss: 0.7392 | test_acc: 0.7566\n"
     ]
    },
    {
     "name": "stderr",
     "output_type": "stream",
     "text": [
      "\r",
      " 56%|█████████████████████████████████████████████▎                                   | 56/100 [36:01<28:21, 38.68s/it]"
     ]
    },
    {
     "name": "stdout",
     "output_type": "stream",
     "text": [
      "Epoch: 56 | train_loss: 0.2200 | train_acc: 0.9105 | test_loss: 0.9308 | test_acc: 0.7673\n"
     ]
    },
    {
     "name": "stderr",
     "output_type": "stream",
     "text": [
      "\r",
      " 57%|██████████████████████████████████████████████▏                                  | 57/100 [36:40<27:54, 38.93s/it]"
     ]
    },
    {
     "name": "stdout",
     "output_type": "stream",
     "text": [
      "Epoch: 57 | train_loss: 0.2214 | train_acc: 0.9123 | test_loss: 0.9046 | test_acc: 0.7434\n"
     ]
    },
    {
     "name": "stderr",
     "output_type": "stream",
     "text": [
      "\r",
      " 58%|██████████████████████████████████████████████▉                                  | 58/100 [37:20<27:21, 39.08s/it]"
     ]
    },
    {
     "name": "stdout",
     "output_type": "stream",
     "text": [
      "Epoch: 58 | train_loss: 0.2195 | train_acc: 0.9135 | test_loss: 0.8205 | test_acc: 0.7327\n"
     ]
    },
    {
     "name": "stderr",
     "output_type": "stream",
     "text": [
      "\r",
      " 59%|███████████████████████████████████████████████▊                                 | 59/100 [37:59<26:43, 39.11s/it]"
     ]
    },
    {
     "name": "stdout",
     "output_type": "stream",
     "text": [
      "Epoch: 59 | train_loss: 0.2197 | train_acc: 0.9135 | test_loss: 0.8389 | test_acc: 0.7220\n"
     ]
    },
    {
     "name": "stderr",
     "output_type": "stream",
     "text": [
      "\r",
      " 60%|████████████████████████████████████████████████▌                                | 60/100 [38:38<26:06, 39.16s/it]"
     ]
    },
    {
     "name": "stdout",
     "output_type": "stream",
     "text": [
      "Epoch: 60 | train_loss: 0.2156 | train_acc: 0.9135 | test_loss: 0.7785 | test_acc: 0.7595\n"
     ]
    },
    {
     "name": "stderr",
     "output_type": "stream",
     "text": [
      "\r",
      " 61%|█████████████████████████████████████████████████▍                               | 61/100 [39:17<25:24, 39.10s/it]"
     ]
    },
    {
     "name": "stdout",
     "output_type": "stream",
     "text": [
      "Epoch: 61 | train_loss: 0.2207 | train_acc: 0.9105 | test_loss: 0.8658 | test_acc: 0.7590\n"
     ]
    },
    {
     "name": "stderr",
     "output_type": "stream",
     "text": [
      "\r",
      " 62%|██████████████████████████████████████████████████▏                              | 62/100 [39:56<24:46, 39.12s/it]"
     ]
    },
    {
     "name": "stdout",
     "output_type": "stream",
     "text": [
      "Epoch: 62 | train_loss: 0.2201 | train_acc: 0.9201 | test_loss: 0.9153 | test_acc: 0.7619\n"
     ]
    },
    {
     "name": "stderr",
     "output_type": "stream",
     "text": [
      "\r",
      " 63%|███████████████████████████████████████████████████                              | 63/100 [40:35<24:02, 38.98s/it]"
     ]
    },
    {
     "name": "stdout",
     "output_type": "stream",
     "text": [
      "Epoch: 63 | train_loss: 0.2175 | train_acc: 0.9240 | test_loss: 0.7906 | test_acc: 0.7512\n"
     ]
    },
    {
     "name": "stderr",
     "output_type": "stream",
     "text": [
      "\r",
      " 64%|███████████████████████████████████████████████████▊                             | 64/100 [41:14<23:23, 38.98s/it]"
     ]
    },
    {
     "name": "stdout",
     "output_type": "stream",
     "text": [
      "Epoch: 64 | train_loss: 0.2247 | train_acc: 0.9026 | test_loss: 0.7786 | test_acc: 0.7541\n"
     ]
    },
    {
     "name": "stderr",
     "output_type": "stream",
     "text": [
      "\r",
      " 65%|████████████████████████████████████████████████████▋                            | 65/100 [41:53<22:40, 38.87s/it]"
     ]
    },
    {
     "name": "stdout",
     "output_type": "stream",
     "text": [
      "Epoch: 65 | train_loss: 0.2196 | train_acc: 0.9117 | test_loss: 0.7782 | test_acc: 0.7512\n"
     ]
    },
    {
     "name": "stderr",
     "output_type": "stream",
     "text": [
      "\r",
      " 66%|█████████████████████████████████████████████████████▍                           | 66/100 [42:31<21:52, 38.60s/it]"
     ]
    },
    {
     "name": "stdout",
     "output_type": "stream",
     "text": [
      "Epoch: 66 | train_loss: 0.2196 | train_acc: 0.9162 | test_loss: 0.7739 | test_acc: 0.7434\n"
     ]
    },
    {
     "name": "stderr",
     "output_type": "stream",
     "text": [
      "\r",
      " 67%|██████████████████████████████████████████████████████▎                          | 67/100 [43:09<21:13, 38.59s/it]"
     ]
    },
    {
     "name": "stdout",
     "output_type": "stream",
     "text": [
      "Epoch: 67 | train_loss: 0.2250 | train_acc: 0.9126 | test_loss: 0.8873 | test_acc: 0.7299\n"
     ]
    },
    {
     "name": "stderr",
     "output_type": "stream",
     "text": [
      "\r",
      " 68%|███████████████████████████████████████████████████████                          | 68/100 [43:48<20:42, 38.83s/it]"
     ]
    },
    {
     "name": "stdout",
     "output_type": "stream",
     "text": [
      "Epoch: 68 | train_loss: 0.2237 | train_acc: 0.9029 | test_loss: 0.8273 | test_acc: 0.7405\n"
     ]
    },
    {
     "name": "stderr",
     "output_type": "stream",
     "text": [
      "\r",
      " 69%|███████████████████████████████████████████████████████▉                         | 69/100 [44:28<20:12, 39.10s/it]"
     ]
    },
    {
     "name": "stdout",
     "output_type": "stream",
     "text": [
      "Epoch: 69 | train_loss: 0.2255 | train_acc: 0.9078 | test_loss: 0.7106 | test_acc: 0.7434\n"
     ]
    },
    {
     "name": "stderr",
     "output_type": "stream",
     "text": [
      "\r",
      " 70%|████████████████████████████████████████████████████████▋                        | 70/100 [45:07<19:26, 38.89s/it]"
     ]
    },
    {
     "name": "stdout",
     "output_type": "stream",
     "text": [
      "Epoch: 70 | train_loss: 0.2223 | train_acc: 0.9056 | test_loss: 0.8506 | test_acc: 0.7673\n"
     ]
    },
    {
     "name": "stderr",
     "output_type": "stream",
     "text": [
      "\r",
      " 71%|█████████████████████████████████████████████████████████▌                       | 71/100 [45:46<18:48, 38.91s/it]"
     ]
    },
    {
     "name": "stdout",
     "output_type": "stream",
     "text": [
      "Epoch: 71 | train_loss: 0.2206 | train_acc: 0.9135 | test_loss: 0.9791 | test_acc: 0.7459\n"
     ]
    },
    {
     "name": "stderr",
     "output_type": "stream",
     "text": [
      "\r",
      " 72%|██████████████████████████████████████████████████████████▎                      | 72/100 [46:25<18:11, 38.99s/it]"
     ]
    },
    {
     "name": "stdout",
     "output_type": "stream",
     "text": [
      "Epoch: 72 | train_loss: 0.2168 | train_acc: 0.9084 | test_loss: 0.8254 | test_acc: 0.7356\n"
     ]
    },
    {
     "name": "stderr",
     "output_type": "stream",
     "text": [
      "\r",
      " 73%|███████████████████████████████████████████████████████████▏                     | 73/100 [47:03<17:28, 38.85s/it]"
     ]
    },
    {
     "name": "stdout",
     "output_type": "stream",
     "text": [
      "Epoch: 73 | train_loss: 0.2150 | train_acc: 0.9114 | test_loss: 0.8473 | test_acc: 0.7327\n"
     ]
    },
    {
     "name": "stderr",
     "output_type": "stream",
     "text": [
      "\r",
      " 74%|███████████████████████████████████████████████████████████▉                     | 74/100 [47:42<16:49, 38.83s/it]"
     ]
    },
    {
     "name": "stdout",
     "output_type": "stream",
     "text": [
      "Epoch: 74 | train_loss: 0.2167 | train_acc: 0.9162 | test_loss: 0.9294 | test_acc: 0.7352\n"
     ]
    },
    {
     "name": "stderr",
     "output_type": "stream",
     "text": [
      "\r",
      " 75%|████████████████████████████████████████████████████████████▊                    | 75/100 [48:21<16:12, 38.88s/it]"
     ]
    },
    {
     "name": "stdout",
     "output_type": "stream",
     "text": [
      "Epoch: 75 | train_loss: 0.2228 | train_acc: 0.8969 | test_loss: 0.7264 | test_acc: 0.7644\n"
     ]
    },
    {
     "name": "stderr",
     "output_type": "stream",
     "text": [
      "\r",
      " 76%|█████████████████████████████████████████████████████████████▌                   | 76/100 [48:59<15:25, 38.56s/it]"
     ]
    },
    {
     "name": "stdout",
     "output_type": "stream",
     "text": [
      "Epoch: 76 | train_loss: 0.2202 | train_acc: 0.9165 | test_loss: 0.7688 | test_acc: 0.7541\n"
     ]
    },
    {
     "name": "stderr",
     "output_type": "stream",
     "text": [
      "\r",
      " 77%|██████████████████████████████████████████████████████████████▎                  | 77/100 [49:35<14:33, 37.96s/it]"
     ]
    },
    {
     "name": "stdout",
     "output_type": "stream",
     "text": [
      "Epoch: 77 | train_loss: 0.2219 | train_acc: 0.9087 | test_loss: 0.7949 | test_acc: 0.7512\n"
     ]
    },
    {
     "name": "stderr",
     "output_type": "stream",
     "text": [
      "\r",
      " 78%|███████████████████████████████████████████████████████████████▏                 | 78/100 [50:11<13:41, 37.34s/it]"
     ]
    },
    {
     "name": "stdout",
     "output_type": "stream",
     "text": [
      "Epoch: 78 | train_loss: 0.2214 | train_acc: 0.9144 | test_loss: 0.9256 | test_acc: 0.7352\n"
     ]
    },
    {
     "name": "stderr",
     "output_type": "stream",
     "text": [
      "\r",
      " 79%|███████████████████████████████████████████████████████████████▉                 | 79/100 [50:38<11:55, 34.06s/it]"
     ]
    },
    {
     "name": "stdout",
     "output_type": "stream",
     "text": [
      "Epoch: 79 | train_loss: 0.2220 | train_acc: 0.9126 | test_loss: 0.8258 | test_acc: 0.7697\n"
     ]
    },
    {
     "name": "stderr",
     "output_type": "stream",
     "text": [
      "\r",
      " 80%|████████████████████████████████████████████████████████████████▊                | 80/100 [51:03<10:30, 31.53s/it]"
     ]
    },
    {
     "name": "stdout",
     "output_type": "stream",
     "text": [
      "Epoch: 80 | train_loss: 0.2190 | train_acc: 0.9174 | test_loss: 0.7773 | test_acc: 0.7590\n"
     ]
    },
    {
     "name": "stderr",
     "output_type": "stream",
     "text": [
      "\r",
      " 81%|█████████████████████████████████████████████████████████████████▌               | 81/100 [51:29<09:23, 29.68s/it]"
     ]
    },
    {
     "name": "stdout",
     "output_type": "stream",
     "text": [
      "Epoch: 81 | train_loss: 0.2222 | train_acc: 0.9165 | test_loss: 0.7425 | test_acc: 0.7463\n"
     ]
    },
    {
     "name": "stderr",
     "output_type": "stream",
     "text": [
      "\r",
      " 82%|██████████████████████████████████████████████████████████████████▍              | 82/100 [51:55<08:35, 28.65s/it]"
     ]
    },
    {
     "name": "stdout",
     "output_type": "stream",
     "text": [
      "Epoch: 82 | train_loss: 0.2196 | train_acc: 0.9201 | test_loss: 0.8236 | test_acc: 0.7590\n"
     ]
    },
    {
     "name": "stderr",
     "output_type": "stream",
     "text": [
      "\r",
      " 83%|███████████████████████████████████████████████████████████████████▏             | 83/100 [52:21<07:55, 27.94s/it]"
     ]
    },
    {
     "name": "stdout",
     "output_type": "stream",
     "text": [
      "Epoch: 83 | train_loss: 0.2218 | train_acc: 0.9144 | test_loss: 0.8127 | test_acc: 0.7751\n"
     ]
    },
    {
     "name": "stderr",
     "output_type": "stream",
     "text": [
      "\r",
      " 84%|████████████████████████████████████████████████████████████████████             | 84/100 [52:50<07:31, 28.22s/it]"
     ]
    },
    {
     "name": "stdout",
     "output_type": "stream",
     "text": [
      "Epoch: 84 | train_loss: 0.2218 | train_acc: 0.9038 | test_loss: 0.7286 | test_acc: 0.7697\n"
     ]
    },
    {
     "name": "stderr",
     "output_type": "stream",
     "text": [
      "\r",
      " 85%|████████████████████████████████████████████████████████████████████▊            | 85/100 [53:18<07:03, 28.20s/it]"
     ]
    },
    {
     "name": "stdout",
     "output_type": "stream",
     "text": [
      "Epoch: 85 | train_loss: 0.2218 | train_acc: 0.9213 | test_loss: 0.8835 | test_acc: 0.7434\n"
     ]
    },
    {
     "name": "stderr",
     "output_type": "stream",
     "text": [
      "\r",
      " 86%|█████████████████████████████████████████████████████████████████████▋           | 86/100 [53:46<06:31, 27.98s/it]"
     ]
    },
    {
     "name": "stdout",
     "output_type": "stream",
     "text": [
      "Epoch: 86 | train_loss: 0.2202 | train_acc: 0.9096 | test_loss: 0.8227 | test_acc: 0.7303\n"
     ]
    },
    {
     "name": "stderr",
     "output_type": "stream",
     "text": [
      "\r",
      " 87%|██████████████████████████████████████████████████████████████████████▍          | 87/100 [54:11<05:52, 27.10s/it]"
     ]
    },
    {
     "name": "stdout",
     "output_type": "stream",
     "text": [
      "Epoch: 87 | train_loss: 0.2196 | train_acc: 0.9144 | test_loss: 0.8774 | test_acc: 0.7541\n"
     ]
    },
    {
     "name": "stderr",
     "output_type": "stream",
     "text": [
      "\r",
      " 88%|███████████████████████████████████████████████████████████████████████▎         | 88/100 [54:36<05:17, 26.46s/it]"
     ]
    },
    {
     "name": "stdout",
     "output_type": "stream",
     "text": [
      "Epoch: 88 | train_loss: 0.2221 | train_acc: 0.9096 | test_loss: 0.8569 | test_acc: 0.7488\n"
     ]
    },
    {
     "name": "stderr",
     "output_type": "stream",
     "text": [
      "\r",
      " 89%|████████████████████████████████████████████████████████████████████████         | 89/100 [55:01<04:46, 26.01s/it]"
     ]
    },
    {
     "name": "stdout",
     "output_type": "stream",
     "text": [
      "Epoch: 89 | train_loss: 0.2206 | train_acc: 0.9075 | test_loss: 0.7172 | test_acc: 0.7566\n"
     ]
    },
    {
     "name": "stderr",
     "output_type": "stream",
     "text": [
      "\r",
      " 90%|████████████████████████████████████████████████████████████████████████▉        | 90/100 [55:25<04:16, 25.61s/it]"
     ]
    },
    {
     "name": "stdout",
     "output_type": "stream",
     "text": [
      "Epoch: 90 | train_loss: 0.2229 | train_acc: 0.9056 | test_loss: 0.7829 | test_acc: 0.7673\n"
     ]
    },
    {
     "name": "stderr",
     "output_type": "stream",
     "text": [
      "\r",
      " 91%|█████████████████████████████████████████████████████████████████████████▋       | 91/100 [55:50<03:47, 25.28s/it]"
     ]
    },
    {
     "name": "stdout",
     "output_type": "stream",
     "text": [
      "Epoch: 91 | train_loss: 0.2211 | train_acc: 0.9183 | test_loss: 0.8967 | test_acc: 0.7619\n"
     ]
    },
    {
     "name": "stderr",
     "output_type": "stream",
     "text": [
      "\r",
      " 92%|██████████████████████████████████████████████████████████████████████████▌      | 92/100 [56:14<03:20, 25.00s/it]"
     ]
    },
    {
     "name": "stdout",
     "output_type": "stream",
     "text": [
      "Epoch: 92 | train_loss: 0.2212 | train_acc: 0.9165 | test_loss: 0.7004 | test_acc: 0.7726\n"
     ]
    },
    {
     "name": "stderr",
     "output_type": "stream",
     "text": [
      "\r",
      " 93%|███████████████████████████████████████████████████████████████████████████▎     | 93/100 [56:38<02:52, 24.71s/it]"
     ]
    },
    {
     "name": "stdout",
     "output_type": "stream",
     "text": [
      "Epoch: 93 | train_loss: 0.2211 | train_acc: 0.9126 | test_loss: 0.7760 | test_acc: 0.7726\n"
     ]
    },
    {
     "name": "stderr",
     "output_type": "stream",
     "text": [
      "\r",
      " 94%|████████████████████████████████████████████████████████████████████████████▏    | 94/100 [57:03<02:29, 24.85s/it]"
     ]
    },
    {
     "name": "stdout",
     "output_type": "stream",
     "text": [
      "Epoch: 94 | train_loss: 0.2194 | train_acc: 0.9135 | test_loss: 0.8102 | test_acc: 0.7512\n"
     ]
    },
    {
     "name": "stderr",
     "output_type": "stream",
     "text": [
      "\r",
      " 95%|████████████████████████████████████████████████████████████████████████████▉    | 95/100 [57:31<02:08, 25.70s/it]"
     ]
    },
    {
     "name": "stdout",
     "output_type": "stream",
     "text": [
      "Epoch: 95 | train_loss: 0.2210 | train_acc: 0.9174 | test_loss: 0.7961 | test_acc: 0.7356\n"
     ]
    },
    {
     "name": "stderr",
     "output_type": "stream",
     "text": [
      "\r",
      " 96%|█████████████████████████████████████████████████████████████████████████████▊   | 96/100 [57:59<01:45, 26.43s/it]"
     ]
    },
    {
     "name": "stdout",
     "output_type": "stream",
     "text": [
      "Epoch: 96 | train_loss: 0.2226 | train_acc: 0.9153 | test_loss: 0.7742 | test_acc: 0.7541\n"
     ]
    },
    {
     "name": "stderr",
     "output_type": "stream",
     "text": [
      "\r",
      " 97%|██████████████████████████████████████████████████████████████████████████████▌  | 97/100 [58:28<01:21, 27.03s/it]"
     ]
    },
    {
     "name": "stdout",
     "output_type": "stream",
     "text": [
      "Epoch: 97 | train_loss: 0.2225 | train_acc: 0.9117 | test_loss: 0.7601 | test_acc: 0.7434\n"
     ]
    },
    {
     "name": "stderr",
     "output_type": "stream",
     "text": [
      "\r",
      " 98%|███████████████████████████████████████████████████████████████████████████████▍ | 98/100 [58:53<00:53, 26.55s/it]"
     ]
    },
    {
     "name": "stdout",
     "output_type": "stream",
     "text": [
      "Epoch: 98 | train_loss: 0.2210 | train_acc: 0.9144 | test_loss: 0.8086 | test_acc: 0.7352\n"
     ]
    },
    {
     "name": "stderr",
     "output_type": "stream",
     "text": [
      "\r",
      " 99%|████████████████████████████████████████████████████████████████████████████████▏| 99/100 [59:20<00:26, 26.71s/it]"
     ]
    },
    {
     "name": "stdout",
     "output_type": "stream",
     "text": [
      "Epoch: 99 | train_loss: 0.2227 | train_acc: 0.9135 | test_loss: 0.9414 | test_acc: 0.7459\n"
     ]
    },
    {
     "name": "stderr",
     "output_type": "stream",
     "text": [
      "100%|████████████████████████████████████████████████████████████████████████████████| 100/100 [59:48<00:00, 35.88s/it]"
     ]
    },
    {
     "name": "stdout",
     "output_type": "stream",
     "text": [
      "Epoch: 100 | train_loss: 0.2191 | train_acc: 0.9183 | test_loss: 0.7940 | test_acc: 0.7751\n",
      "Total training time: 3588.460 seconds\n"
     ]
    },
    {
     "name": "stderr",
     "output_type": "stream",
     "text": [
      "\n"
     ]
    }
   ],
   "source": [
    "model_0_results = run()"
   ]
  },
  {
   "cell_type": "code",
   "execution_count": 38,
   "metadata": {},
   "outputs": [],
   "source": [
    "import matplotlib.pyplot as plt\n",
    "def plot_loss_curves(results: Dict[str, List[float]]):\n",
    "    \n",
    "    \n",
    "    # Get the loss values of the results dictionary (training and test)\n",
    "    loss = results['train_loss']\n",
    "    test_loss = results['test_loss']\n",
    "\n",
    "    # Get the accuracy values of the results dictionary (training and test)\n",
    "    accuracy = results['train_acc']\n",
    "    test_accuracy = results['test_acc']\n",
    "\n",
    "    # Figure out how many epochs there were\n",
    "    epochs = range(len(results['train_loss']))\n",
    "\n",
    "    # Setup a plot \n",
    "    plt.figure(figsize=(15, 7))\n",
    "\n",
    "    # Plot loss\n",
    "    plt.subplot(1, 2, 1)\n",
    "    plt.plot(epochs, loss, label='train_loss')\n",
    "    plt.plot(epochs, test_loss, label='test_loss')\n",
    "    plt.title('Loss')\n",
    "    plt.xlabel('Epochs')\n",
    "    plt.legend()\n",
    "\n",
    "    # Plot accuracy\n",
    "    plt.subplot(1, 2, 2)\n",
    "    plt.plot(epochs, accuracy, label='train_accuracy')\n",
    "    plt.plot(epochs, test_accuracy, label='test_accuracy')\n",
    "    plt.title('Accuracy')\n",
    "    plt.xlabel('Epochs')\n",
    "    plt.legend();"
   ]
  },
  {
   "cell_type": "code",
   "execution_count": 39,
   "metadata": {},
   "outputs": [
    {
     "data": {
      "image/png": "[encoded data removed]",
      "text/plain": [
       "<Figure size 1500x700 with 2 Axes>"
      ]
     },
     "metadata": {},
     "output_type": "display_data"
    }
   ],
   "source": [
    "plot_loss_curves(model_0_results)"
   ]
  },
  {
   "cell_type": "code",
   "execution_count": 40,
   "metadata": {},
   "outputs": [
    {
     "data": {
      "text/plain": [
       "OrderedDict([('conv1.0.weight',\n",
       "              tensor([[[[ 0.3823,  0.4150],\n",
       "                        [-0.1171,  0.4593]]],\n",
       "              \n",
       "              \n",
       "                      [[[-0.1096,  0.1009],\n",
       "                        [-0.2434,  0.2936]]],\n",
       "              \n",
       "              \n",
       "                      [[[ 0.4408, -0.3668],\n",
       "                        [ 0.4346,  0.0936]]],\n",
       "              \n",
       "              \n",
       "                      [[[ 0.3694,  0.0677],\n",
       "                        [ 0.2411, -0.0706]]],\n",
       "              \n",
       "              \n",
       "                      [[[ 0.3854,  0.0739],\n",
       "                        [-0.2334,  0.1274]]],\n",
       "              \n",
       "              \n",
       "                      [[[-0.2304, -0.0586],\n",
       "                        [-0.2031,  0.3317]]],\n",
       "              \n",
       "              \n",
       "                      [[[-0.3947, -0.2305],\n",
       "                        [-0.1412, -0.3006]]],\n",
       "              \n",
       "              \n",
       "                      [[[ 0.0472, -0.4938],\n",
       "                        [ 0.4516, -0.4247]]],\n",
       "              \n",
       "              \n",
       "                      [[[ 0.3860,  0.0832],\n",
       "                        [-0.1624,  0.3090]]],\n",
       "              \n",
       "              \n",
       "                      [[[ 0.0779,  0.4040],\n",
       "                        [ 0.0547, -0.1577]]],\n",
       "              \n",
       "              \n",
       "                      [[[ 0.1343, -0.1356],\n",
       "                        [ 0.2104,  0.4464]]],\n",
       "              \n",
       "              \n",
       "                      [[[ 0.2890, -0.2186],\n",
       "                        [ 0.2886,  0.0895]]],\n",
       "              \n",
       "              \n",
       "                      [[[ 0.2539, -0.3048],\n",
       "                        [-0.4950, -0.1932]]],\n",
       "              \n",
       "              \n",
       "                      [[[-0.3835,  0.4103],\n",
       "                        [ 0.1440,  0.2071]]],\n",
       "              \n",
       "              \n",
       "                      [[[ 0.1581, -0.0087],\n",
       "                        [ 0.3913, -0.3553]]],\n",
       "              \n",
       "              \n",
       "                      [[[ 0.0315, -0.3413],\n",
       "                        [ 0.1542, -0.1722]]],\n",
       "              \n",
       "              \n",
       "                      [[[ 0.1532, -0.1042],\n",
       "                        [ 0.4147, -0.2964]]],\n",
       "              \n",
       "              \n",
       "                      [[[-0.2982, -0.2982],\n",
       "                        [ 0.4497,  0.1666]]],\n",
       "              \n",
       "              \n",
       "                      [[[ 0.4811, -0.4126],\n",
       "                        [-0.4959, -0.3912]]],\n",
       "              \n",
       "              \n",
       "                      [[[-0.3363,  0.2025],\n",
       "                        [ 0.1790,  0.4155]]],\n",
       "              \n",
       "              \n",
       "                      [[[-0.2582, -0.3409],\n",
       "                        [ 0.2653, -0.2021]]],\n",
       "              \n",
       "              \n",
       "                      [[[ 0.3035, -0.1187],\n",
       "                        [ 0.2860, -0.3885]]],\n",
       "              \n",
       "              \n",
       "                      [[[-0.2523,  0.1524],\n",
       "                        [ 0.1057, -0.1275]]],\n",
       "              \n",
       "              \n",
       "                      [[[ 0.2980,  0.3399],\n",
       "                        [-0.3626, -0.2669]]],\n",
       "              \n",
       "              \n",
       "                      [[[ 0.4578, -0.1687],\n",
       "                        [-0.1773, -0.4838]]],\n",
       "              \n",
       "              \n",
       "                      [[[-0.2863,  0.1249],\n",
       "                        [-0.0660, -0.3629]]],\n",
       "              \n",
       "              \n",
       "                      [[[ 0.0117, -0.3415],\n",
       "                        [-0.4242, -0.2753]]],\n",
       "              \n",
       "              \n",
       "                      [[[-0.4376, -0.3184],\n",
       "                        [ 0.4998,  0.0944]]],\n",
       "              \n",
       "              \n",
       "                      [[[ 0.1541, -0.4663],\n",
       "                        [-0.3284, -0.1664]]],\n",
       "              \n",
       "              \n",
       "                      [[[ 0.0782, -0.4400],\n",
       "                        [-0.2154, -0.2993]]]])),\n",
       "             ('conv1.0.bias',\n",
       "              tensor([ 0.0014, -0.1861, -0.0346, -0.3388, -0.3432, -0.2917, -0.1711, -0.3946,\n",
       "                       0.4192, -0.0992,  0.4302,  0.1558, -0.4234,  0.3460, -0.1376, -0.1917,\n",
       "                      -0.4150, -0.4971,  0.1431, -0.1092,  0.1947, -0.4103,  0.3712, -0.3670,\n",
       "                      -0.0863,  0.1044,  0.2581,  0.4037,  0.4555, -0.3965])),\n",
       "             ('conv2.0.weight',\n",
       "              tensor([[[[ 0.0230, -0.0393],\n",
       "                        [-0.0100, -0.0683]],\n",
       "              \n",
       "                       [[ 0.0831, -0.0670],\n",
       "                        [ 0.0488,  0.0321]],\n",
       "              \n",
       "                       [[ 0.0297, -0.0494],\n",
       "                        [ 0.0830,  0.0201]],\n",
       "              \n",
       "                       ...,\n",
       "              \n",
       "                       [[ 0.0459,  0.0414],\n",
       "                        [ 0.0652, -0.0700]],\n",
       "              \n",
       "                       [[ 0.0657, -0.0432],\n",
       "                        [ 0.0339,  0.0857]],\n",
       "              \n",
       "                       [[-0.0129, -0.0007],\n",
       "                        [-0.0210, -0.0762]]],\n",
       "              \n",
       "              \n",
       "                      [[[ 0.0438, -0.0906],\n",
       "                        [ 0.0567,  0.0683]],\n",
       "              \n",
       "                       [[ 0.0863, -0.0215],\n",
       "                        [-0.0750,  0.0205]],\n",
       "              \n",
       "                       [[ 0.0504, -0.0909],\n",
       "                        [-0.0207, -0.0547]],\n",
       "              \n",
       "                       ...,\n",
       "              \n",
       "                       [[ 0.0756, -0.0838],\n",
       "                        [ 0.0610, -0.0644]],\n",
       "              \n",
       "                       [[ 0.0342,  0.0773],\n",
       "                        [ 0.0013,  0.0831]],\n",
       "              \n",
       "                       [[-0.0778, -0.0349],\n",
       "                        [ 0.0532, -0.0199]]],\n",
       "              \n",
       "              \n",
       "                      [[[-0.0187, -0.0380],\n",
       "                        [ 0.0629,  0.0448]],\n",
       "              \n",
       "                       [[ 0.0293, -0.0513],\n",
       "                        [-0.0741,  0.0099]],\n",
       "              \n",
       "                       [[ 0.0270, -0.0421],\n",
       "                        [-0.0255,  0.0617]],\n",
       "              \n",
       "                       ...,\n",
       "              \n",
       "                       [[-0.0237, -0.0386],\n",
       "                        [-0.0221, -0.0441]],\n",
       "              \n",
       "                       [[ 0.0155,  0.0681],\n",
       "                        [ 0.0714,  0.0419]],\n",
       "              \n",
       "                       [[-0.0672, -0.0490],\n",
       "                        [-0.0201, -0.0168]]],\n",
       "              \n",
       "              \n",
       "                      ...,\n",
       "              \n",
       "              \n",
       "                      [[[-0.0775, -0.0176],\n",
       "                        [ 0.0780,  0.0737]],\n",
       "              \n",
       "                       [[ 0.0621,  0.0847],\n",
       "                        [-0.0286, -0.0707]],\n",
       "              \n",
       "                       [[ 0.0513,  0.0582],\n",
       "                        [-0.0276, -0.0085]],\n",
       "              \n",
       "                       ...,\n",
       "              \n",
       "                       [[-0.0488, -0.0898],\n",
       "                        [ 0.0500,  0.0787]],\n",
       "              \n",
       "                       [[-0.0712, -0.0009],\n",
       "                        [ 0.0290,  0.0589]],\n",
       "              \n",
       "                       [[-0.0164,  0.0416],\n",
       "                        [ 0.0701,  0.0534]]],\n",
       "              \n",
       "              \n",
       "                      [[[ 0.0445,  0.0555],\n",
       "                        [-0.0818,  0.0194]],\n",
       "              \n",
       "                       [[ 0.0704, -0.0723],\n",
       "                        [-0.0800, -0.0754]],\n",
       "              \n",
       "                       [[ 0.0280,  0.0847],\n",
       "                        [-0.0083, -0.0363]],\n",
       "              \n",
       "                       ...,\n",
       "              \n",
       "                       [[-0.0363, -0.0832],\n",
       "                        [-0.0470, -0.0877]],\n",
       "              \n",
       "                       [[ 0.0198, -0.0685],\n",
       "                        [ 0.0702,  0.0395]],\n",
       "              \n",
       "                       [[-0.0512, -0.0261],\n",
       "                        [-0.0818,  0.0658]]],\n",
       "              \n",
       "              \n",
       "                      [[[-0.0408, -0.0192],\n",
       "                        [ 0.0067,  0.0443]],\n",
       "              \n",
       "                       [[-0.0272,  0.0448],\n",
       "                        [ 0.0470, -0.0113]],\n",
       "              \n",
       "                       [[ 0.0605, -0.0801],\n",
       "                        [-0.0497, -0.0072]],\n",
       "              \n",
       "                       ...,\n",
       "              \n",
       "                       [[ 0.0829, -0.0606],\n",
       "                        [ 0.0538, -0.0880]],\n",
       "              \n",
       "                       [[ 0.0367, -0.0521],\n",
       "                        [-0.0005,  0.0886]],\n",
       "              \n",
       "                       [[ 0.0124, -0.0491],\n",
       "                        [ 0.0420, -0.0147]]]])),\n",
       "             ('conv2.0.bias',\n",
       "              tensor([ 0.0819, -0.0683, -0.0155, -0.0767, -0.0518, -0.0261, -0.0602, -0.0622,\n",
       "                      -0.0226, -0.0521, -0.0553,  0.0049, -0.0686,  0.0526,  0.0602,  0.0840,\n",
       "                       0.0283, -0.0086, -0.0159, -0.0434,  0.0621,  0.0506,  0.0659, -0.0177,\n",
       "                      -0.0631,  0.0304,  0.0800, -0.0145,  0.0737,  0.0645,  0.0321, -0.0247,\n",
       "                      -0.0306, -0.0160, -0.0069, -0.0188, -0.0889, -0.0626, -0.0289,  0.0701,\n",
       "                       0.0377, -0.0831, -0.0654, -0.0536,  0.0866,  0.0226,  0.0731, -0.0737,\n",
       "                       0.0853,  0.0743,  0.0063, -0.0427,  0.0358, -0.0491, -0.0378,  0.0342,\n",
       "                      -0.0701,  0.0222, -0.0049,  0.0009])),\n",
       "             ('conv3.0.weight',\n",
       "              tensor([[[[ 0.0030,  0.0156],\n",
       "                        [-0.0386,  0.0266]],\n",
       "              \n",
       "                       [[-0.0606,  0.0272],\n",
       "                        [-0.0525,  0.0621]],\n",
       "              \n",
       "                       [[ 0.0155,  0.0179],\n",
       "                        [ 0.0171,  0.0125]],\n",
       "              \n",
       "                       ...,\n",
       "              \n",
       "                       [[-0.0385, -0.0198],\n",
       "                        [ 0.0400, -0.0328]],\n",
       "              \n",
       "                       [[ 0.0407,  0.0033],\n",
       "                        [-0.0306, -0.0313]],\n",
       "              \n",
       "                       [[-0.0627,  0.0221],\n",
       "                        [ 0.0025,  0.0575]]],\n",
       "              \n",
       "              \n",
       "                      [[[ 0.0233,  0.0200],\n",
       "                        [-0.0034,  0.0302]],\n",
       "              \n",
       "                       [[-0.0096,  0.0259],\n",
       "                        [-0.0294,  0.0408]],\n",
       "              \n",
       "                       [[ 0.0177,  0.0341],\n",
       "                        [ 0.0044,  0.0306]],\n",
       "              \n",
       "                       ...,\n",
       "              \n",
       "                       [[-0.0587, -0.0366],\n",
       "                        [ 0.0470, -0.0534]],\n",
       "              \n",
       "                       [[ 0.0489, -0.0125],\n",
       "                        [ 0.0047,  0.0315]],\n",
       "              \n",
       "                       [[ 0.0174, -0.0414],\n",
       "                        [ 0.0210, -0.0554]]],\n",
       "              \n",
       "              \n",
       "                      [[[-0.0326, -0.0113],\n",
       "                        [-0.0129,  0.0470]],\n",
       "              \n",
       "                       [[-0.0352,  0.0542],\n",
       "                        [ 0.0301,  0.0210]],\n",
       "              \n",
       "                       [[ 0.0460, -0.0441],\n",
       "                        [-0.0556,  0.0024]],\n",
       "              \n",
       "                       ...,\n",
       "              \n",
       "                       [[ 0.0571,  0.0545],\n",
       "                        [-0.0282,  0.0563]],\n",
       "              \n",
       "                       [[ 0.0441,  0.0536],\n",
       "                        [ 0.0559,  0.0148]],\n",
       "              \n",
       "                       [[ 0.0355, -0.0346],\n",
       "                        [ 0.0108,  0.0619]]],\n",
       "              \n",
       "              \n",
       "                      ...,\n",
       "              \n",
       "              \n",
       "                      [[[ 0.0367, -0.0532],\n",
       "                        [ 0.0148, -0.0523]],\n",
       "              \n",
       "                       [[ 0.0009, -0.0133],\n",
       "                        [-0.0110, -0.0442]],\n",
       "              \n",
       "                       [[ 0.0202,  0.0471],\n",
       "                        [-0.0554, -0.0628]],\n",
       "              \n",
       "                       ...,\n",
       "              \n",
       "                       [[-0.0368, -0.0539],\n",
       "                        [-0.0258, -0.0203]],\n",
       "              \n",
       "                       [[ 0.0133,  0.0232],\n",
       "                        [ 0.0448,  0.0082]],\n",
       "              \n",
       "                       [[ 0.0552,  0.0339],\n",
       "                        [ 0.0397,  0.0259]]],\n",
       "              \n",
       "              \n",
       "                      [[[ 0.0495, -0.0557],\n",
       "                        [ 0.0513, -0.0077]],\n",
       "              \n",
       "                       [[-0.0110,  0.0339],\n",
       "                        [ 0.0171, -0.0176]],\n",
       "              \n",
       "                       [[-0.0637,  0.0308],\n",
       "                        [-0.0035, -0.0300]],\n",
       "              \n",
       "                       ...,\n",
       "              \n",
       "                       [[ 0.0242,  0.0024],\n",
       "                        [-0.0321,  0.0285]],\n",
       "              \n",
       "                       [[-0.0559, -0.0383],\n",
       "                        [-0.0258,  0.0246]],\n",
       "              \n",
       "                       [[ 0.0404, -0.0073],\n",
       "                        [-0.0557, -0.0547]]],\n",
       "              \n",
       "              \n",
       "                      [[[ 0.0277,  0.0075],\n",
       "                        [-0.0442, -0.0495]],\n",
       "              \n",
       "                       [[ 0.0603, -0.0476],\n",
       "                        [-0.0126,  0.0630]],\n",
       "              \n",
       "                       [[-0.0097,  0.0457],\n",
       "                        [ 0.0414, -0.0603]],\n",
       "              \n",
       "                       ...,\n",
       "              \n",
       "                       [[-0.0461, -0.0552],\n",
       "                        [ 0.0090, -0.0216]],\n",
       "              \n",
       "                       [[ 0.0039, -0.0584],\n",
       "                        [-0.0293, -0.0265]],\n",
       "              \n",
       "                       [[ 0.0234,  0.0523],\n",
       "                        [-0.0407,  0.0012]]]])),\n",
       "             ('conv3.0.bias',\n",
       "              tensor([-9.4416e-03,  6.7913e-03,  1.6911e-02, -1.8094e-03, -3.7190e-02,\n",
       "                      -4.7532e-02,  5.7673e-02, -5.2629e-03,  4.1542e-02, -5.3057e-02,\n",
       "                       7.0899e-03, -4.0026e-02,  4.0642e-02, -3.7069e-02,  5.2767e-02,\n",
       "                       2.4442e-02, -5.4499e-02,  4.9530e-02, -4.9542e-03,  5.6715e-02,\n",
       "                      -1.0884e-02,  4.6630e-03,  2.7914e-03,  6.1575e-02, -2.8915e-02,\n",
       "                       2.7850e-02, -1.3779e-02, -4.9243e-02,  3.8430e-02, -5.1549e-02,\n",
       "                      -3.7441e-02, -4.5695e-02,  6.3608e-02,  4.3858e-02, -1.4056e-02,\n",
       "                      -3.6217e-02,  3.2588e-02,  4.6358e-02,  6.3291e-03, -5.4054e-02,\n",
       "                       8.6389e-05, -7.7641e-03,  3.6784e-02,  4.7747e-02,  2.6749e-02,\n",
       "                      -1.3535e-02,  1.8567e-02,  2.4122e-03, -3.0736e-02,  6.3057e-02,\n",
       "                       3.1457e-02,  3.0593e-02,  9.6768e-03, -4.3424e-02, -5.9613e-02,\n",
       "                       4.3945e-02, -4.0806e-02,  8.7902e-03,  5.4905e-02, -5.8291e-02,\n",
       "                       2.4009e-02,  3.0414e-02,  4.0491e-02, -4.5746e-02, -6.2144e-02,\n",
       "                      -2.8404e-02, -2.6999e-02, -5.9181e-02, -1.9011e-02, -2.3981e-02,\n",
       "                      -8.1184e-03,  3.9959e-02, -4.0955e-02, -2.6892e-02, -5.8153e-02,\n",
       "                       8.0788e-03, -6.4258e-02, -5.7829e-02,  7.6684e-03, -5.8997e-02,\n",
       "                       1.8868e-02, -3.6512e-02,  2.5199e-02,  4.1947e-02,  2.5995e-02,\n",
       "                       2.5543e-02, -4.2975e-02, -3.8949e-02,  6.3333e-02,  1.3841e-03,\n",
       "                       4.3432e-02, -5.1978e-02,  2.1353e-02, -1.2185e-02,  3.0534e-02,\n",
       "                      -4.5413e-02,  1.3764e-02, -4.3255e-02,  1.8717e-02, -5.5907e-02,\n",
       "                       1.7405e-02,  6.3885e-02,  3.3078e-02, -3.0846e-02, -1.8169e-02,\n",
       "                      -4.7796e-02,  4.4030e-02, -8.6754e-03,  1.8035e-02, -5.8150e-02,\n",
       "                       3.0929e-02,  1.2917e-02, -2.2536e-02,  3.9844e-02,  4.1771e-02,\n",
       "                      -3.1564e-02,  1.0771e-03, -4.9163e-02,  1.7931e-02, -5.6374e-02])),\n",
       "             ('conv4.0.weight',\n",
       "              tensor([[[[ 0.0049,  0.0208],\n",
       "                        [ 0.0275, -0.0041]],\n",
       "              \n",
       "                       [[ 0.0167,  0.0198],\n",
       "                        [ 0.0373,  0.0456]],\n",
       "              \n",
       "                       [[ 0.0420, -0.0285],\n",
       "                        [ 0.0047, -0.0445]],\n",
       "              \n",
       "                       ...,\n",
       "              \n",
       "                       [[-0.0048,  0.0358],\n",
       "                        [-0.0206, -0.0042]],\n",
       "              \n",
       "                       [[-0.0191,  0.0340],\n",
       "                        [-0.0054, -0.0225]],\n",
       "              \n",
       "                       [[ 0.0363,  0.0231],\n",
       "                        [-0.0295, -0.0118]]],\n",
       "              \n",
       "              \n",
       "                      [[[ 0.0425, -0.0303],\n",
       "                        [-0.0377,  0.0141]],\n",
       "              \n",
       "                       [[-0.0136, -0.0255],\n",
       "                        [ 0.0044, -0.0378]],\n",
       "              \n",
       "                       [[-0.0259, -0.0101],\n",
       "                        [-0.0150,  0.0150]],\n",
       "              \n",
       "                       ...,\n",
       "              \n",
       "                       [[-0.0261,  0.0443],\n",
       "                        [ 0.0232, -0.0165]],\n",
       "              \n",
       "                       [[ 0.0161,  0.0363],\n",
       "                        [ 0.0410, -0.0240]],\n",
       "              \n",
       "                       [[ 0.0135,  0.0397],\n",
       "                        [ 0.0303,  0.0261]]],\n",
       "              \n",
       "              \n",
       "                      [[[-0.0008,  0.0096],\n",
       "                        [-0.0392, -0.0260]],\n",
       "              \n",
       "                       [[ 0.0347, -0.0193],\n",
       "                        [-0.0170,  0.0176]],\n",
       "              \n",
       "                       [[-0.0404,  0.0062],\n",
       "                        [ 0.0453,  0.0311]],\n",
       "              \n",
       "                       ...,\n",
       "              \n",
       "                       [[ 0.0027, -0.0097],\n",
       "                        [-0.0185, -0.0085]],\n",
       "              \n",
       "                       [[ 0.0075,  0.0259],\n",
       "                        [-0.0245, -0.0077]],\n",
       "              \n",
       "                       [[-0.0422,  0.0417],\n",
       "                        [-0.0274,  0.0155]]],\n",
       "              \n",
       "              \n",
       "                      ...,\n",
       "              \n",
       "              \n",
       "                      [[[ 0.0275, -0.0276],\n",
       "                        [-0.0253, -0.0349]],\n",
       "              \n",
       "                       [[ 0.0160,  0.0302],\n",
       "                        [ 0.0405,  0.0285]],\n",
       "              \n",
       "                       [[-0.0177, -0.0179],\n",
       "                        [ 0.0319, -0.0252]],\n",
       "              \n",
       "                       ...,\n",
       "              \n",
       "                       [[ 0.0414,  0.0091],\n",
       "                        [-0.0424,  0.0167]],\n",
       "              \n",
       "                       [[-0.0115,  0.0020],\n",
       "                        [-0.0334,  0.0426]],\n",
       "              \n",
       "                       [[ 0.0434,  0.0317],\n",
       "                        [ 0.0364, -0.0356]]],\n",
       "              \n",
       "              \n",
       "                      [[[-0.0040,  0.0431],\n",
       "                        [-0.0094, -0.0320]],\n",
       "              \n",
       "                       [[-0.0023,  0.0454],\n",
       "                        [-0.0052,  0.0431]],\n",
       "              \n",
       "                       [[ 0.0018,  0.0031],\n",
       "                        [ 0.0187, -0.0150]],\n",
       "              \n",
       "                       ...,\n",
       "              \n",
       "                       [[ 0.0063, -0.0012],\n",
       "                        [-0.0382, -0.0379]],\n",
       "              \n",
       "                       [[ 0.0166, -0.0239],\n",
       "                        [-0.0196,  0.0044]],\n",
       "              \n",
       "                       [[-0.0436,  0.0252],\n",
       "                        [ 0.0311, -0.0318]]],\n",
       "              \n",
       "              \n",
       "                      [[[ 0.0250, -0.0368],\n",
       "                        [-0.0299,  0.0342]],\n",
       "              \n",
       "                       [[-0.0015, -0.0008],\n",
       "                        [ 0.0081,  0.0256]],\n",
       "              \n",
       "                       [[-0.0077, -0.0073],\n",
       "                        [-0.0101,  0.0293]],\n",
       "              \n",
       "                       ...,\n",
       "              \n",
       "                       [[-0.0187, -0.0449],\n",
       "                        [-0.0066,  0.0090]],\n",
       "              \n",
       "                       [[ 0.0024, -0.0297],\n",
       "                        [ 0.0196, -0.0386]],\n",
       "              \n",
       "                       [[ 0.0149,  0.0370],\n",
       "                        [ 0.0399,  0.0066]]]])),\n",
       "             ('conv4.0.bias',\n",
       "              tensor([ 4.0224e-02,  2.1838e-02,  3.3813e-03,  2.3876e-02, -3.9654e-02,\n",
       "                       1.6343e-02,  7.3586e-03,  4.0398e-02,  4.4139e-02, -6.8111e-03,\n",
       "                       4.8033e-03,  1.3357e-02,  3.3534e-02,  4.5731e-03,  1.9234e-02,\n",
       "                       3.5395e-02, -4.0537e-02, -6.3005e-03, -3.4931e-02,  1.1013e-02,\n",
       "                       1.3395e-02, -3.5301e-03, -4.3296e-02, -1.1708e-02,  3.4199e-02,\n",
       "                       3.6783e-02,  7.7632e-03, -4.3118e-02,  3.8546e-02,  3.6251e-02,\n",
       "                       2.7841e-02, -2.8095e-02, -3.2575e-02, -2.7546e-02,  2.7015e-02,\n",
       "                      -3.3250e-04,  4.5348e-02, -1.2992e-02,  1.9234e-02, -4.1245e-02,\n",
       "                       1.5884e-02,  2.0916e-02, -2.1868e-02,  7.7372e-04, -1.3579e-03,\n",
       "                       1.3733e-03,  4.1469e-02,  1.0190e-02,  1.7986e-02, -5.1377e-03,\n",
       "                      -4.1191e-02,  2.8532e-02,  1.8778e-02,  3.1919e-02,  4.3721e-03,\n",
       "                      -1.8616e-03,  1.5491e-02, -8.1116e-03, -4.5133e-03,  1.3268e-02,\n",
       "                      -1.6009e-02,  4.5306e-02, -1.4989e-02, -3.2862e-02,  3.7295e-02,\n",
       "                       8.4297e-03, -2.3682e-03, -4.0607e-02,  1.1115e-02,  3.9552e-02,\n",
       "                       3.4082e-02,  4.1420e-02, -2.7976e-02,  3.7891e-03, -1.9357e-02,\n",
       "                      -1.2074e-02, -4.2779e-02,  4.4682e-02, -1.6903e-02, -4.5382e-02,\n",
       "                      -3.4892e-02, -1.8261e-02,  8.0511e-03,  1.3818e-02, -4.1939e-02,\n",
       "                      -4.3481e-02, -4.5507e-02, -2.8913e-02, -1.1930e-02,  4.2432e-02,\n",
       "                       2.8587e-02, -4.3894e-02, -7.2623e-03, -4.5361e-02,  3.1859e-02,\n",
       "                      -2.6603e-02, -2.2572e-02,  3.0046e-02, -2.4676e-02, -3.5530e-02,\n",
       "                       2.7158e-02,  2.1988e-02,  4.4701e-02,  1.5717e-04, -6.6109e-03,\n",
       "                      -3.3411e-02, -8.1078e-03,  3.0311e-02,  1.9490e-02,  2.0441e-02,\n",
       "                      -3.7832e-02, -3.8782e-02,  7.9690e-03,  2.2737e-02,  3.1818e-03,\n",
       "                       4.4796e-02, -2.8506e-03,  3.1740e-02, -2.8412e-02,  6.0877e-03,\n",
       "                      -6.3899e-04, -4.0077e-02,  1.0876e-02,  1.5266e-02, -1.9038e-02,\n",
       "                      -7.2556e-03, -1.9255e-02,  4.3071e-02,  3.9384e-02, -2.9602e-03,\n",
       "                       3.3234e-02, -1.3456e-02,  3.5460e-02,  3.3819e-02,  2.1993e-02,\n",
       "                      -1.5290e-02,  4.1762e-02, -1.1088e-02,  2.4115e-02, -3.7509e-02,\n",
       "                      -4.4210e-02,  2.3390e-02, -2.5466e-02, -4.1550e-02,  1.4888e-02,\n",
       "                      -1.5207e-02,  1.9406e-02, -2.8545e-02, -1.4564e-02, -1.8405e-02,\n",
       "                       1.5364e-02,  3.1459e-02, -4.2397e-02,  2.6260e-02, -4.3885e-02,\n",
       "                      -4.4227e-02, -2.3490e-02,  7.3881e-03, -4.0078e-03,  1.7386e-02,\n",
       "                      -3.7627e-02, -5.3934e-03, -2.5061e-02,  4.1459e-02, -3.5441e-02,\n",
       "                       1.3799e-02, -3.4544e-02, -4.4033e-02, -3.0377e-02,  1.4185e-02,\n",
       "                       1.2489e-02,  2.4531e-03, -1.0726e-02, -2.4631e-02, -3.1275e-02,\n",
       "                      -4.8403e-03, -1.9615e-02,  2.1026e-02,  3.2914e-02,  6.0420e-03,\n",
       "                      -4.2395e-02,  1.4255e-03, -3.6451e-02, -4.2334e-02,  4.2527e-02,\n",
       "                      -4.4270e-02, -2.2086e-02, -2.9124e-02, -4.4315e-02,  1.2579e-02,\n",
       "                      -3.3399e-02,  1.8686e-02,  4.1605e-02,  4.4639e-02,  1.2550e-02,\n",
       "                       3.2485e-02,  1.0816e-02,  1.2134e-03, -1.1411e-02, -2.2117e-02,\n",
       "                      -1.8381e-02,  1.9206e-02,  3.4802e-02,  1.4140e-02, -3.6967e-02,\n",
       "                       3.3966e-02, -2.2311e-02, -2.2504e-03, -3.1861e-03, -3.3697e-02,\n",
       "                      -1.9473e-02, -5.0627e-03,  8.0667e-03, -3.0688e-02, -1.6834e-02,\n",
       "                       3.3606e-02, -1.4950e-02, -1.0561e-02,  4.4516e-02,  8.3104e-03,\n",
       "                       2.2765e-03,  1.7131e-02,  6.7010e-03,  2.4720e-02,  1.7198e-02,\n",
       "                      -1.1511e-02,  2.7513e-03,  1.8139e-02,  2.2343e-02,  2.2266e-02,\n",
       "                       3.4269e-02, -3.1013e-02,  3.9464e-02,  5.0984e-05,  1.3173e-02,\n",
       "                       1.5255e-03, -3.9766e-02,  1.7522e-02,  4.5607e-03,  1.1061e-02])),\n",
       "             ('conv5.0.weight',\n",
       "              tensor([[[[-1.2252e-02, -8.1842e-03],\n",
       "                        [-2.5573e-03, -2.8785e-02]],\n",
       "              \n",
       "                       [[ 1.9375e-02,  3.2151e-02],\n",
       "                        [ 1.0362e-02, -1.0028e-02]],\n",
       "              \n",
       "                       [[-9.2742e-03,  3.4708e-03],\n",
       "                        [-4.4517e-03,  2.7278e-02]],\n",
       "              \n",
       "                       ...,\n",
       "              \n",
       "                       [[-1.8834e-02,  2.9748e-02],\n",
       "                        [-7.1157e-03,  2.5051e-02]],\n",
       "              \n",
       "                       [[ 7.1156e-03, -1.2555e-02],\n",
       "                        [-8.0615e-03,  5.9965e-03]],\n",
       "              \n",
       "                       [[-2.2401e-02,  2.3748e-03],\n",
       "                        [-2.4234e-02, -2.1142e-02]]],\n",
       "              \n",
       "              \n",
       "                      [[[ 2.6235e-02,  2.7904e-02],\n",
       "                        [-1.3839e-02, -2.6959e-02]],\n",
       "              \n",
       "                       [[-1.0823e-02, -1.6605e-02],\n",
       "                        [ 8.4243e-03, -2.5477e-02]],\n",
       "              \n",
       "                       [[ 2.7269e-02,  2.1380e-02],\n",
       "                        [-4.3685e-03, -1.2762e-02]],\n",
       "              \n",
       "                       ...,\n",
       "              \n",
       "                       [[ 1.0196e-02,  8.3035e-03],\n",
       "                        [ 6.5726e-03,  8.3917e-03]],\n",
       "              \n",
       "                       [[-8.1693e-03, -2.5460e-02],\n",
       "                        [ 2.0460e-02,  2.9466e-02]],\n",
       "              \n",
       "                       [[-2.1956e-02,  2.9558e-02],\n",
       "                        [ 1.2362e-02, -1.8953e-02]]],\n",
       "              \n",
       "              \n",
       "                      [[[-1.3789e-02, -7.4313e-03],\n",
       "                        [ 3.0660e-02, -2.8515e-02]],\n",
       "              \n",
       "                       [[-8.3844e-03,  2.9163e-03],\n",
       "                        [ 2.0071e-02, -1.0162e-02]],\n",
       "              \n",
       "                       [[ 3.0179e-02,  2.5053e-02],\n",
       "                        [-2.0442e-02, -1.6278e-02]],\n",
       "              \n",
       "                       ...,\n",
       "              \n",
       "                       [[ 2.0185e-02, -6.1152e-04],\n",
       "                        [-2.5160e-02, -3.9615e-03]],\n",
       "              \n",
       "                       [[-1.1191e-02, -1.7964e-02],\n",
       "                        [-5.2576e-03, -2.8411e-03]],\n",
       "              \n",
       "                       [[-2.2562e-02,  1.9319e-02],\n",
       "                        [ 1.4586e-02, -1.4199e-02]]],\n",
       "              \n",
       "              \n",
       "                      ...,\n",
       "              \n",
       "              \n",
       "                      [[[-1.7315e-02,  9.1400e-03],\n",
       "                        [ 1.1765e-02, -1.9214e-02]],\n",
       "              \n",
       "                       [[ 8.0705e-03, -6.8771e-03],\n",
       "                        [-2.3630e-02, -9.1754e-03]],\n",
       "              \n",
       "                       [[-6.4458e-03, -2.0496e-02],\n",
       "                        [-2.3522e-02, -7.4908e-04]],\n",
       "              \n",
       "                       ...,\n",
       "              \n",
       "                       [[-2.7871e-02,  2.7027e-02],\n",
       "                        [ 1.0629e-02,  5.5433e-03]],\n",
       "              \n",
       "                       [[-1.7712e-03, -4.5147e-04],\n",
       "                        [-2.3653e-02,  2.7555e-02]],\n",
       "              \n",
       "                       [[-3.0765e-02,  1.8969e-02],\n",
       "                        [ 1.0355e-02,  1.2741e-02]]],\n",
       "              \n",
       "              \n",
       "                      [[[-9.4039e-03,  1.9381e-02],\n",
       "                        [ 2.2304e-03, -1.3987e-04]],\n",
       "              \n",
       "                       [[-1.3520e-02, -2.9814e-02],\n",
       "                        [ 9.7987e-03,  5.7319e-03]],\n",
       "              \n",
       "                       [[-2.6839e-02,  5.4853e-03],\n",
       "                        [-1.5905e-02, -2.5867e-02]],\n",
       "              \n",
       "                       ...,\n",
       "              \n",
       "                       [[ 1.7688e-05, -2.3412e-02],\n",
       "                        [-1.7291e-02, -2.7292e-02]],\n",
       "              \n",
       "                       [[-3.6890e-03, -8.2073e-03],\n",
       "                        [-1.6698e-03,  3.5098e-03]],\n",
       "              \n",
       "                       [[-9.0375e-03,  2.1770e-02],\n",
       "                        [ 1.8486e-02,  8.4392e-03]]],\n",
       "              \n",
       "              \n",
       "                      [[[-1.5549e-02,  1.5450e-02],\n",
       "                        [ 2.2638e-02, -4.7646e-05]],\n",
       "              \n",
       "                       [[ 1.7543e-02,  1.2889e-02],\n",
       "                        [ 2.6979e-02, -1.7210e-02]],\n",
       "              \n",
       "                       [[-2.6955e-02,  3.0634e-02],\n",
       "                        [ 2.1976e-03,  1.5589e-02]],\n",
       "              \n",
       "                       ...,\n",
       "              \n",
       "                       [[-1.2621e-02,  2.4879e-02],\n",
       "                        [-9.3349e-03,  2.3631e-02]],\n",
       "              \n",
       "                       [[ 2.9317e-02, -1.0347e-02],\n",
       "                        [ 1.3265e-02, -3.8939e-03]],\n",
       "              \n",
       "                       [[-2.0547e-02,  2.4129e-02],\n",
       "                        [-1.1023e-02,  1.1739e-02]]]])),\n",
       "             ('conv5.0.bias',\n",
       "              tensor([-0.0074,  0.0029,  0.0205, -0.0266, -0.0211,  0.0260, -0.0314, -0.0307,\n",
       "                       0.0312, -0.0100,  0.0020, -0.0245,  0.0072, -0.0265, -0.0067, -0.0051,\n",
       "                       0.0018,  0.0017, -0.0069, -0.0039,  0.0311,  0.0066, -0.0134,  0.0035,\n",
       "                      -0.0164, -0.0241, -0.0272, -0.0213, -0.0052, -0.0159,  0.0155,  0.0297,\n",
       "                      -0.0052,  0.0012, -0.0266, -0.0099, -0.0061, -0.0225,  0.0292,  0.0066,\n",
       "                       0.0159,  0.0235, -0.0112,  0.0245, -0.0010, -0.0180,  0.0124,  0.0101,\n",
       "                       0.0037, -0.0283, -0.0291,  0.0027, -0.0004, -0.0104,  0.0147,  0.0095,\n",
       "                       0.0206, -0.0185,  0.0110, -0.0020, -0.0193,  0.0272, -0.0088,  0.0247,\n",
       "                      -0.0072, -0.0001, -0.0315, -0.0276, -0.0115, -0.0039,  0.0297,  0.0237,\n",
       "                      -0.0062, -0.0118, -0.0088,  0.0035,  0.0109,  0.0207, -0.0206,  0.0008,\n",
       "                       0.0230, -0.0217,  0.0080, -0.0166, -0.0204, -0.0003,  0.0025,  0.0132,\n",
       "                      -0.0259, -0.0132, -0.0105,  0.0010,  0.0039,  0.0031, -0.0296, -0.0046,\n",
       "                      -0.0208, -0.0024, -0.0120,  0.0220,  0.0154,  0.0172, -0.0282, -0.0244,\n",
       "                      -0.0061, -0.0130,  0.0038,  0.0045, -0.0166,  0.0012, -0.0185, -0.0029,\n",
       "                       0.0313,  0.0033,  0.0159, -0.0027,  0.0284, -0.0156,  0.0003,  0.0162,\n",
       "                      -0.0262,  0.0150,  0.0280,  0.0316, -0.0244, -0.0109,  0.0202,  0.0263,\n",
       "                      -0.0156,  0.0289, -0.0170, -0.0188,  0.0298,  0.0006,  0.0029, -0.0112,\n",
       "                       0.0002,  0.0014,  0.0257,  0.0132, -0.0027,  0.0230, -0.0297, -0.0293,\n",
       "                       0.0027,  0.0118, -0.0149,  0.0140, -0.0318,  0.0139, -0.0046, -0.0147,\n",
       "                      -0.0042,  0.0212, -0.0078, -0.0319, -0.0213, -0.0122,  0.0214, -0.0309,\n",
       "                       0.0219,  0.0205,  0.0212, -0.0243,  0.0256, -0.0123,  0.0018, -0.0003,\n",
       "                      -0.0150,  0.0271, -0.0084, -0.0143, -0.0154, -0.0186,  0.0277,  0.0044,\n",
       "                      -0.0296,  0.0198,  0.0220,  0.0209,  0.0260, -0.0087,  0.0097, -0.0188,\n",
       "                      -0.0217, -0.0147,  0.0028,  0.0192, -0.0140,  0.0119,  0.0197, -0.0251,\n",
       "                      -0.0200, -0.0032,  0.0084,  0.0021, -0.0224, -0.0288, -0.0301, -0.0254,\n",
       "                      -0.0274, -0.0219, -0.0065, -0.0216, -0.0050, -0.0117, -0.0298, -0.0157,\n",
       "                      -0.0188, -0.0263,  0.0305, -0.0231, -0.0310,  0.0050,  0.0283, -0.0116,\n",
       "                       0.0127, -0.0044,  0.0163,  0.0251, -0.0308,  0.0210, -0.0056, -0.0144,\n",
       "                       0.0057,  0.0271,  0.0263, -0.0134,  0.0136, -0.0159,  0.0047,  0.0296,\n",
       "                      -0.0092, -0.0193, -0.0072,  0.0050, -0.0104, -0.0260, -0.0233,  0.0023,\n",
       "                      -0.0048,  0.0227, -0.0217,  0.0140, -0.0190, -0.0312, -0.0104,  0.0264,\n",
       "                      -0.0005,  0.0119,  0.0247, -0.0268, -0.0312, -0.0243,  0.0240,  0.0029,\n",
       "                       0.0218, -0.0171,  0.0048,  0.0152, -0.0292, -0.0133,  0.0239,  0.0134,\n",
       "                       0.0159,  0.0144, -0.0168,  0.0074,  0.0078, -0.0090,  0.0060, -0.0264,\n",
       "                       0.0013,  0.0282, -0.0038,  0.0102, -0.0079, -0.0065, -0.0114,  0.0215,\n",
       "                       0.0093, -0.0306,  0.0076, -0.0240,  0.0107, -0.0241,  0.0078, -0.0049,\n",
       "                      -0.0065,  0.0298, -0.0098, -0.0217, -0.0319,  0.0096,  0.0003, -0.0304,\n",
       "                      -0.0238, -0.0222, -0.0295, -0.0121,  0.0108,  0.0289, -0.0263, -0.0006,\n",
       "                      -0.0162,  0.0116, -0.0292,  0.0156, -0.0038,  0.0301,  0.0212, -0.0096,\n",
       "                       0.0233,  0.0119,  0.0067, -0.0274,  0.0146, -0.0185, -0.0216, -0.0154,\n",
       "                      -0.0236,  0.0301,  0.0277,  0.0293, -0.0030, -0.0289, -0.0026,  0.0196,\n",
       "                      -0.0116,  0.0004,  0.0049, -0.0114, -0.0310, -0.0223,  0.0037, -0.0041,\n",
       "                       0.0140, -0.0212,  0.0256, -0.0254,  0.0249, -0.0249, -0.0051,  0.0236,\n",
       "                       0.0232, -0.0291,  0.0234,  0.0111,  0.0200,  0.0140,  0.0109, -0.0003,\n",
       "                      -0.0302, -0.0057,  0.0053, -0.0203, -0.0200, -0.0265,  0.0251, -0.0083,\n",
       "                      -0.0137, -0.0281,  0.0010,  0.0227, -0.0287,  0.0100, -0.0184, -0.0200,\n",
       "                       0.0060, -0.0155, -0.0035, -0.0027,  0.0105, -0.0090,  0.0254,  0.0192,\n",
       "                      -0.0006, -0.0230,  0.0302,  0.0251,  0.0034,  0.0276,  0.0224, -0.0296,\n",
       "                      -0.0305,  0.0092,  0.0131, -0.0213,  0.0098, -0.0050, -0.0231, -0.0041,\n",
       "                       0.0171,  0.0289, -0.0045,  0.0226,  0.0087, -0.0295,  0.0013, -0.0174,\n",
       "                      -0.0167,  0.0190, -0.0227,  0.0246,  0.0294,  0.0160,  0.0010, -0.0171,\n",
       "                      -0.0308, -0.0264, -0.0193,  0.0163,  0.0213,  0.0044,  0.0156, -0.0311,\n",
       "                      -0.0107,  0.0274, -0.0123,  0.0068,  0.0167, -0.0261, -0.0104, -0.0021,\n",
       "                      -0.0320,  0.0209,  0.0188,  0.0027, -0.0091, -0.0103, -0.0320, -0.0129,\n",
       "                      -0.0309,  0.0008,  0.0078, -0.0040, -0.0124,  0.0206, -0.0111, -0.0121,\n",
       "                       0.0159, -0.0155,  0.0279,  0.0072, -0.0171, -0.0314, -0.0130, -0.0309,\n",
       "                      -0.0007,  0.0078, -0.0026, -0.0149, -0.0124, -0.0085,  0.0071,  0.0300,\n",
       "                      -0.0141, -0.0085, -0.0178, -0.0068, -0.0102,  0.0207, -0.0255, -0.0227,\n",
       "                      -0.0003, -0.0157,  0.0232,  0.0183, -0.0138,  0.0303, -0.0273, -0.0095,\n",
       "                      -0.0067, -0.0233, -0.0171, -0.0276, -0.0117,  0.0258, -0.0160,  0.0072])),\n",
       "             ('conv6.0.weight',\n",
       "              tensor([[[[ 0.0101, -0.0004],\n",
       "                        [ 0.0181,  0.0167]],\n",
       "              \n",
       "                       [[ 0.0183, -0.0121],\n",
       "                        [-0.0051, -0.0181]],\n",
       "              \n",
       "                       [[-0.0039,  0.0132],\n",
       "                        [ 0.0198, -0.0056]],\n",
       "              \n",
       "                       ...,\n",
       "              \n",
       "                       [[ 0.0125, -0.0008],\n",
       "                        [-0.0191,  0.0043]],\n",
       "              \n",
       "                       [[ 0.0092,  0.0054],\n",
       "                        [-0.0089,  0.0212]],\n",
       "              \n",
       "                       [[ 0.0131,  0.0074],\n",
       "                        [-0.0034,  0.0068]]],\n",
       "              \n",
       "              \n",
       "                      [[[-0.0186, -0.0174],\n",
       "                        [ 0.0007,  0.0170]],\n",
       "              \n",
       "                       [[-0.0173, -0.0152],\n",
       "                        [ 0.0124, -0.0160]],\n",
       "              \n",
       "                       [[-0.0184, -0.0216],\n",
       "                        [-0.0099, -0.0027]],\n",
       "              \n",
       "                       ...,\n",
       "              \n",
       "                       [[ 0.0170,  0.0197],\n",
       "                        [-0.0054, -0.0026]],\n",
       "              \n",
       "                       [[-0.0227,  0.0019],\n",
       "                        [ 0.0123, -0.0041]],\n",
       "              \n",
       "                       [[ 0.0064,  0.0212],\n",
       "                        [ 0.0035,  0.0002]]],\n",
       "              \n",
       "              \n",
       "                      [[[-0.0076, -0.0023],\n",
       "                        [-0.0117, -0.0225]],\n",
       "              \n",
       "                       [[-0.0100,  0.0058],\n",
       "                        [-0.0047,  0.0069]],\n",
       "              \n",
       "                       [[-0.0123, -0.0031],\n",
       "                        [-0.0086, -0.0175]],\n",
       "              \n",
       "                       ...,\n",
       "              \n",
       "                       [[-0.0192, -0.0126],\n",
       "                        [-0.0005,  0.0047]],\n",
       "              \n",
       "                       [[ 0.0161,  0.0037],\n",
       "                        [ 0.0221,  0.0090]],\n",
       "              \n",
       "                       [[ 0.0171,  0.0168],\n",
       "                        [ 0.0214, -0.0013]]],\n",
       "              \n",
       "              \n",
       "                      ...,\n",
       "              \n",
       "              \n",
       "                      [[[-0.0007,  0.0110],\n",
       "                        [-0.0074,  0.0122]],\n",
       "              \n",
       "                       [[ 0.0222,  0.0064],\n",
       "                        [-0.0088,  0.0059]],\n",
       "              \n",
       "                       [[ 0.0055, -0.0082],\n",
       "                        [-0.0053,  0.0206]],\n",
       "              \n",
       "                       ...,\n",
       "              \n",
       "                       [[ 0.0116,  0.0140],\n",
       "                        [ 0.0227,  0.0107]],\n",
       "              \n",
       "                       [[ 0.0105, -0.0204],\n",
       "                        [-0.0174, -0.0092]],\n",
       "              \n",
       "                       [[-0.0069, -0.0226],\n",
       "                        [-0.0199, -0.0087]]],\n",
       "              \n",
       "              \n",
       "                      [[[-0.0107, -0.0160],\n",
       "                        [ 0.0142, -0.0167]],\n",
       "              \n",
       "                       [[-0.0027, -0.0102],\n",
       "                        [-0.0113, -0.0191]],\n",
       "              \n",
       "                       [[-0.0146,  0.0226],\n",
       "                        [-0.0198,  0.0078]],\n",
       "              \n",
       "                       ...,\n",
       "              \n",
       "                       [[ 0.0109, -0.0219],\n",
       "                        [ 0.0131,  0.0032]],\n",
       "              \n",
       "                       [[ 0.0008, -0.0136],\n",
       "                        [ 0.0157,  0.0076]],\n",
       "              \n",
       "                       [[ 0.0038, -0.0201],\n",
       "                        [-0.0220,  0.0078]]],\n",
       "              \n",
       "              \n",
       "                      [[[ 0.0134,  0.0223],\n",
       "                        [ 0.0039, -0.0217]],\n",
       "              \n",
       "                       [[ 0.0006, -0.0048],\n",
       "                        [-0.0049,  0.0084]],\n",
       "              \n",
       "                       [[ 0.0032, -0.0159],\n",
       "                        [-0.0192,  0.0130]],\n",
       "              \n",
       "                       ...,\n",
       "              \n",
       "                       [[-0.0100, -0.0080],\n",
       "                        [-0.0107, -0.0078]],\n",
       "              \n",
       "                       [[ 0.0099, -0.0114],\n",
       "                        [-0.0016,  0.0191]],\n",
       "              \n",
       "                       [[ 0.0117, -0.0193],\n",
       "                        [ 0.0023,  0.0118]]]])),\n",
       "             ('conv6.0.bias',\n",
       "              tensor([-1.7635e-02, -5.6869e-03,  5.2565e-03, -9.7439e-03, -1.4877e-02,\n",
       "                      -1.7513e-02,  3.7342e-03, -5.6940e-03, -6.3453e-03,  5.8598e-03,\n",
       "                       1.0013e-02, -1.3156e-02,  7.9108e-03, -2.0161e-02, -7.6721e-03,\n",
       "                       1.3078e-02,  7.8761e-03,  1.3527e-02,  1.7999e-02, -1.7634e-04,\n",
       "                       1.6626e-02,  1.7279e-03, -1.7659e-02,  9.0970e-04, -2.1150e-02,\n",
       "                      -2.3387e-03,  1.8657e-02,  1.9007e-02, -7.3546e-03,  2.1786e-02,\n",
       "                      -1.1713e-02,  1.9040e-02, -2.5588e-03,  1.6772e-02, -5.8827e-03,\n",
       "                       1.3426e-02, -9.7296e-03,  5.2786e-03, -2.0952e-02,  3.9834e-03,\n",
       "                      -1.4450e-02, -1.6766e-02,  2.4104e-03,  2.1971e-02,  4.8605e-04,\n",
       "                       1.3329e-02,  9.0232e-03,  1.0583e-02, -1.9117e-02, -1.8743e-02,\n",
       "                       1.5992e-02, -5.5024e-03, -1.1182e-02, -1.0826e-02,  1.3076e-02,\n",
       "                      -2.3158e-03,  5.9011e-03,  3.8857e-04,  6.6561e-03, -1.9906e-03,\n",
       "                       1.4163e-02, -7.0059e-03,  1.5058e-02,  1.1933e-03, -6.8946e-03,\n",
       "                       5.5049e-03, -2.0208e-03, -1.6996e-02,  1.0107e-02, -1.3946e-02,\n",
       "                      -9.6303e-04, -1.0834e-02, -6.5062e-03,  1.8164e-02, -2.1365e-02,\n",
       "                       1.2357e-02, -1.5835e-02, -1.8185e-02,  5.5937e-03,  1.3324e-02,\n",
       "                      -1.4150e-02, -1.6501e-02,  5.5339e-03,  1.0216e-02,  1.5560e-02,\n",
       "                      -2.0101e-02,  1.3752e-02,  7.0919e-03,  3.0997e-04, -2.1176e-02,\n",
       "                      -4.5927e-03, -1.7180e-02, -1.5975e-02,  6.0530e-03, -8.6656e-03,\n",
       "                       1.1183e-02,  1.7723e-02,  2.1107e-02,  9.9945e-03, -1.3566e-02,\n",
       "                      -1.6448e-02,  1.5448e-02, -1.3234e-02, -1.3900e-02, -1.0077e-02,\n",
       "                       9.3378e-03, -4.9276e-03,  9.0594e-03, -9.1338e-03, -1.1089e-02,\n",
       "                       2.2417e-02, -1.5963e-02, -5.0826e-04,  6.5626e-04, -2.0083e-02,\n",
       "                      -1.8212e-02,  1.8224e-02, -9.6730e-03,  1.2609e-02, -6.3746e-03,\n",
       "                       1.9599e-03,  1.5222e-02,  2.1861e-02, -2.8045e-03,  6.3994e-03,\n",
       "                      -8.3127e-03, -2.0612e-02, -5.5439e-03, -4.9087e-03,  5.0591e-03,\n",
       "                       7.5400e-03,  1.6190e-02,  1.0762e-02, -1.3120e-02,  1.2438e-02,\n",
       "                      -1.2060e-02, -1.2101e-02, -6.4674e-03,  1.2226e-02, -2.0987e-02,\n",
       "                      -1.1442e-02, -1.9417e-02,  8.6754e-03,  5.5153e-03, -1.0950e-02,\n",
       "                      -1.7622e-02, -1.2910e-02,  1.0097e-02,  1.5112e-02, -3.8726e-03,\n",
       "                       2.0045e-02,  2.0347e-02, -1.6480e-02, -1.9380e-02,  2.1173e-02,\n",
       "                      -7.6578e-03, -1.9077e-02, -1.6770e-02,  7.2131e-03, -1.3063e-02,\n",
       "                      -1.6988e-02, -3.7019e-04, -7.5419e-04, -2.1942e-02,  1.8151e-02,\n",
       "                      -6.6112e-03,  1.2984e-02,  1.6203e-02,  1.7823e-03, -6.0651e-03,\n",
       "                       8.0417e-03,  1.9734e-02, -5.1208e-04, -3.6756e-03,  7.4341e-04,\n",
       "                       1.6450e-02, -9.1510e-03,  1.7581e-02,  2.1610e-02,  1.4891e-03,\n",
       "                      -3.0268e-03,  4.2928e-04,  5.0003e-03,  9.3112e-03,  2.4992e-03,\n",
       "                       1.4582e-02,  3.2232e-03,  1.5078e-02, -3.9624e-03,  9.4847e-03,\n",
       "                      -1.8663e-02, -1.8296e-02, -2.1276e-02,  1.0823e-02,  1.0493e-02,\n",
       "                      -1.1629e-02,  1.5832e-02, -1.5136e-02,  4.7551e-03,  1.2185e-03,\n",
       "                      -1.4940e-02, -5.5489e-03,  1.1502e-02, -9.4635e-03, -1.1264e-02,\n",
       "                       1.1082e-02,  1.1757e-02, -2.2581e-02,  2.2641e-02,  1.0907e-02,\n",
       "                       5.3304e-03,  4.4386e-03,  1.8073e-02,  9.4995e-03,  5.3217e-03,\n",
       "                       1.3111e-02, -7.1913e-03, -8.2595e-03, -1.7057e-02, -4.0532e-03,\n",
       "                      -2.1371e-02,  8.9486e-03, -6.7857e-04, -5.5840e-03, -2.0801e-02,\n",
       "                      -9.2997e-04, -7.5194e-03, -1.0839e-02, -3.3431e-03,  2.7378e-03,\n",
       "                      -1.3160e-04, -8.4742e-03, -4.7767e-03,  9.4039e-03, -6.2030e-03,\n",
       "                       1.7460e-02, -1.7005e-02,  1.5136e-02,  1.9806e-02, -5.3768e-03,\n",
       "                      -1.6320e-02, -5.5233e-03, -7.7660e-03, -1.7026e-02,  6.3550e-03,\n",
       "                      -1.1627e-03, -1.2568e-02, -8.2535e-03, -1.8773e-02,  1.7867e-02,\n",
       "                       1.6629e-02, -1.1984e-02,  7.5501e-03, -1.6327e-02, -1.7382e-02,\n",
       "                       3.1681e-03,  1.6615e-02,  1.9958e-03,  1.2455e-02, -9.0804e-03,\n",
       "                      -7.9094e-03, -2.1398e-02,  2.5083e-03,  1.6395e-02,  6.3043e-03,\n",
       "                       1.1140e-02,  1.8401e-03,  1.1806e-02,  1.5274e-04,  1.3980e-02,\n",
       "                      -1.3999e-02, -4.9285e-03,  1.0602e-02,  1.6793e-02, -2.7233e-03,\n",
       "                      -1.8530e-03, -1.5803e-02, -1.2732e-02,  1.1317e-02, -4.3979e-03,\n",
       "                      -9.7548e-03, -2.1142e-02,  9.4391e-03,  1.3209e-03, -7.0676e-03,\n",
       "                       1.7293e-02, -5.2145e-03,  4.7371e-03, -9.3921e-04,  7.1255e-03,\n",
       "                       1.2430e-02,  2.0819e-02,  2.2734e-02, -1.9134e-02, -3.4982e-03,\n",
       "                       1.4149e-02,  1.2497e-02, -6.3958e-03, -5.2026e-03, -1.9256e-02,\n",
       "                      -1.5069e-02,  1.1045e-02, -1.9529e-02, -1.8652e-02,  8.7755e-03,\n",
       "                      -5.0240e-04, -1.7376e-02, -1.7073e-02,  1.0431e-02,  1.5184e-02,\n",
       "                       1.5607e-02,  1.9622e-02,  3.3875e-03,  1.5527e-02,  9.4123e-03,\n",
       "                       8.5362e-03,  1.5580e-02, -2.3023e-03, -6.4460e-03,  1.0095e-02,\n",
       "                      -9.7152e-03, -8.2297e-03, -2.1444e-02,  4.4919e-03,  1.3208e-03,\n",
       "                      -1.6770e-02, -9.2114e-03,  4.9315e-04,  1.9826e-02, -1.1336e-02,\n",
       "                      -1.9288e-02,  7.5296e-03,  8.6964e-03, -4.2689e-03, -1.9802e-02,\n",
       "                      -1.2246e-02,  1.9187e-02,  7.8209e-03,  1.3054e-03, -2.2256e-02,\n",
       "                      -5.5184e-03,  1.1918e-02, -5.0322e-03,  2.2099e-02, -6.7933e-03,\n",
       "                      -6.3389e-03,  1.2419e-03,  6.4680e-03,  6.0327e-03, -1.5527e-02,\n",
       "                      -8.6529e-03,  1.3405e-02, -8.5347e-03,  8.2532e-03,  1.0634e-02,\n",
       "                       7.5496e-03, -7.2906e-03,  3.7283e-04,  2.1833e-02, -1.9527e-02,\n",
       "                       9.1369e-03,  2.3206e-03,  8.5697e-03,  1.7854e-02,  9.9773e-03,\n",
       "                       1.3520e-02, -1.0825e-02, -5.8723e-03, -1.8958e-02,  1.7491e-03,\n",
       "                       1.1216e-02, -2.1858e-02,  2.4482e-03,  8.4252e-03, -4.5043e-03,\n",
       "                       1.4188e-02,  6.7011e-03, -5.0609e-03,  2.2580e-03,  1.5412e-02,\n",
       "                       1.3497e-02,  6.3847e-04, -2.0428e-02,  1.0772e-02, -1.1776e-02,\n",
       "                       5.9073e-03,  1.9087e-02,  2.0826e-03, -1.1008e-02, -8.6563e-03,\n",
       "                       1.8949e-02, -1.0737e-02,  1.9183e-02,  4.0001e-03,  2.1816e-03,\n",
       "                       7.3750e-03, -2.0032e-02,  1.3868e-02,  9.7883e-03, -2.6353e-03,\n",
       "                      -1.8797e-02, -5.3881e-05, -1.3900e-02, -7.8948e-03,  6.4287e-03,\n",
       "                       6.1383e-03, -1.6533e-02,  1.0794e-02,  2.1790e-02, -8.1329e-03,\n",
       "                      -8.9989e-03, -1.7933e-03, -9.0908e-03, -8.4430e-03, -1.4702e-02,\n",
       "                      -9.5878e-03,  1.7252e-02,  1.4266e-02,  2.9986e-03,  6.6627e-03,\n",
       "                       1.0484e-02, -3.4139e-03, -2.0714e-02,  1.2283e-02, -3.0041e-03,\n",
       "                       5.6910e-03,  1.8749e-02, -1.8853e-02, -9.2449e-04, -1.9325e-02,\n",
       "                       2.2171e-02, -9.3108e-03,  4.5692e-03,  1.1171e-02,  2.1870e-02,\n",
       "                      -7.3791e-03,  7.1095e-03,  1.5636e-02, -2.1188e-02,  7.8213e-04,\n",
       "                      -2.2964e-03,  1.2325e-02, -1.8027e-02, -1.9727e-02, -2.2205e-02,\n",
       "                       1.5973e-02, -2.2591e-02,  1.6953e-02, -1.1207e-02, -2.0632e-02,\n",
       "                      -1.7342e-03, -7.2295e-03, -6.8692e-03,  1.8102e-02, -1.2175e-02,\n",
       "                       1.6708e-02, -5.4433e-03,  1.3819e-02,  1.0069e-02, -2.0820e-03,\n",
       "                       1.6793e-02, -3.3922e-03,  1.1404e-02,  2.8888e-03, -2.9731e-03,\n",
       "                      -2.2651e-02, -1.4183e-02, -1.0828e-02, -2.0506e-02, -6.7897e-03,\n",
       "                       5.2726e-03, -6.0843e-03, -1.7327e-02, -1.6175e-02, -2.2127e-02,\n",
       "                      -1.3651e-02,  1.6426e-02, -5.6209e-03, -1.5857e-02,  1.8947e-03,\n",
       "                      -1.3614e-02, -4.3588e-03,  2.2424e-03, -5.5299e-03, -8.1195e-04,\n",
       "                       1.6166e-02,  5.2119e-04,  2.0510e-02, -1.7421e-03, -2.1169e-02,\n",
       "                       1.0400e-02, -2.0220e-02,  6.8320e-03, -2.2753e-02,  1.4680e-02,\n",
       "                      -2.1215e-02,  3.1011e-03,  1.7540e-02, -8.4685e-03,  5.3350e-03,\n",
       "                      -1.9763e-02,  2.2663e-03, -2.2243e-02,  5.1059e-03,  1.3122e-02,\n",
       "                      -9.8723e-03, -3.5479e-03,  7.2526e-03, -5.7237e-05,  1.6869e-02,\n",
       "                       1.3016e-02, -1.4628e-02, -2.1524e-04, -8.5930e-03, -6.5158e-03,\n",
       "                      -1.6557e-02,  2.1709e-02,  5.7486e-03, -1.8805e-02,  5.3870e-03,\n",
       "                      -2.9201e-03,  1.9118e-02, -1.9406e-02,  5.9802e-03,  1.4999e-03,\n",
       "                       2.2245e-02, -5.4706e-03, -1.0741e-02,  1.8874e-02, -6.9056e-03,\n",
       "                       1.2144e-02, -9.2634e-03, -3.1475e-03,  1.4281e-02, -4.6671e-03,\n",
       "                      -7.9467e-03,  1.7087e-02,  4.5505e-03,  1.0316e-02,  4.0567e-03,\n",
       "                      -4.4080e-03,  1.4221e-02, -2.2796e-02, -1.4341e-02, -1.9779e-03,\n",
       "                      -8.0896e-03, -1.3348e-02, -1.5130e-02,  1.2075e-02, -1.0471e-02,\n",
       "                       1.4700e-02, -1.7822e-02,  4.0258e-03,  1.5437e-02, -1.6563e-02,\n",
       "                      -2.1264e-02, -2.0678e-02,  1.0848e-02,  1.7999e-02,  1.9627e-02,\n",
       "                       1.4808e-02,  4.2363e-03,  1.2414e-02, -1.9116e-02,  4.3900e-03,\n",
       "                      -1.7242e-02, -1.0953e-02,  1.7070e-02, -1.7057e-02,  4.9955e-03,\n",
       "                       1.7299e-02, -4.6452e-03, -1.6497e-02, -1.4198e-02, -1.6610e-02,\n",
       "                      -1.8025e-02, -9.2214e-03,  8.5591e-04, -2.2751e-02, -1.1613e-02,\n",
       "                      -1.5219e-02, -1.9674e-02,  1.2584e-02,  1.5641e-02, -2.8401e-03,\n",
       "                       1.1055e-02,  7.2458e-03, -3.0740e-03,  6.1123e-03,  5.5023e-03,\n",
       "                      -2.2795e-02,  2.1419e-02,  1.8233e-02, -2.3133e-03, -1.7534e-03,\n",
       "                      -8.3439e-03, -2.1615e-02, -6.5615e-03, -6.0067e-04, -4.4219e-03,\n",
       "                       3.8795e-03, -2.3403e-03, -4.0320e-03, -1.6773e-03,  7.5622e-04,\n",
       "                       2.0876e-02,  6.9794e-03, -1.6199e-02, -1.5915e-03,  1.1238e-02,\n",
       "                      -2.2482e-02, -1.9471e-02, -2.1505e-02, -9.5010e-04,  2.2745e-02,\n",
       "                      -2.2817e-02,  2.0727e-02,  2.1867e-02,  1.6994e-02,  3.2101e-03,\n",
       "                      -2.1245e-02, -7.4747e-03, -7.1313e-03, -7.2585e-03,  1.3874e-02,\n",
       "                      -8.1276e-03,  2.1272e-02, -1.6112e-02, -1.8440e-02,  3.1563e-03,\n",
       "                      -1.2197e-03,  1.7412e-02,  1.1275e-03,  1.4423e-02,  8.8569e-03,\n",
       "                      -1.4414e-02, -2.6789e-03, -8.2752e-03,  2.0147e-02,  2.2721e-02,\n",
       "                      -1.7167e-02,  2.4160e-03, -6.3758e-03,  1.1281e-02,  1.0587e-02,\n",
       "                      -1.8157e-02, -1.9986e-02, -2.9787e-03,  1.4012e-02, -7.0300e-03,\n",
       "                      -2.1516e-03,  1.9239e-02, -1.5546e-02,  1.8676e-02, -1.6690e-02,\n",
       "                      -8.2655e-03, -8.4765e-03, -2.0024e-02, -1.6082e-02,  1.8379e-02,\n",
       "                       3.3807e-03, -3.6286e-03, -3.1586e-03, -1.4472e-03,  1.7917e-02,\n",
       "                       1.0295e-02, -1.5112e-02, -2.8716e-03,  1.6949e-02,  8.6929e-03,\n",
       "                       1.7743e-02, -2.2474e-02,  7.1073e-03, -9.9184e-03,  1.2743e-02,\n",
       "                       3.5029e-03,  1.2474e-02,  1.0661e-02, -2.5822e-04, -5.8003e-06,\n",
       "                      -5.1368e-03, -1.5987e-02, -1.4351e-02,  2.8451e-03, -1.5931e-02,\n",
       "                      -5.8637e-03,  8.9144e-03,  4.0990e-03, -1.5267e-02, -2.8695e-03,\n",
       "                       2.1085e-02, -1.1172e-02,  1.8561e-02, -7.1926e-03, -3.9308e-03,\n",
       "                      -1.3811e-02, -1.1023e-02,  8.8896e-03, -2.0216e-02, -1.5181e-02,\n",
       "                       1.4563e-02,  1.6145e-02, -4.4055e-03,  1.9464e-02, -1.7173e-02,\n",
       "                       7.9652e-03,  1.8820e-02,  6.8395e-03, -5.8967e-03,  5.5974e-03,\n",
       "                      -1.2077e-02, -1.4694e-02, -1.7517e-02, -1.1001e-02,  2.0408e-02,\n",
       "                      -1.0832e-02, -5.2716e-03,  1.5976e-02, -1.2013e-02, -1.4328e-03,\n",
       "                      -6.0792e-03,  1.3001e-02,  1.1550e-02, -1.0429e-02,  7.0125e-03,\n",
       "                       2.0591e-02, -1.2158e-03,  3.6836e-04, -8.4504e-03, -2.1288e-02,\n",
       "                      -1.1558e-02, -1.4470e-02, -7.7507e-03, -1.5643e-03,  1.2329e-02,\n",
       "                       1.5676e-02, -6.8055e-03, -1.0597e-02, -2.9648e-03,  1.1299e-02,\n",
       "                       1.1643e-02,  7.5815e-03, -9.5949e-03,  8.1765e-03,  1.9969e-02,\n",
       "                      -1.9312e-02, -1.7356e-02, -7.3232e-03,  6.9224e-03,  6.6381e-03,\n",
       "                       1.2001e-03,  2.1786e-02,  2.0625e-03,  2.2706e-02,  1.6816e-02,\n",
       "                      -8.1482e-03, -1.4754e-02, -7.4313e-03, -1.2172e-02, -1.4055e-02,\n",
       "                      -2.1956e-02,  5.6333e-03,  1.9560e-02, -5.9515e-03,  1.4453e-02,\n",
       "                      -2.0806e-02, -2.1525e-02, -7.2342e-03,  1.2602e-02, -1.1099e-02,\n",
       "                       1.2610e-03, -1.8472e-02,  3.8494e-03, -4.0415e-03, -5.7392e-03,\n",
       "                       1.4190e-02,  1.8722e-02, -1.3202e-02, -4.9213e-03,  6.5299e-03,\n",
       "                       1.4840e-02, -1.7593e-02, -1.8999e-03, -2.2204e-02,  1.1170e-02,\n",
       "                       2.0168e-03,  2.2366e-02, -8.6684e-03,  1.9627e-03, -1.9517e-02,\n",
       "                       8.8290e-03, -5.5025e-03, -2.1595e-02,  3.5355e-03,  1.8803e-02,\n",
       "                       1.5079e-02, -1.4578e-02, -1.1027e-02, -2.2097e-02,  8.7677e-03,\n",
       "                      -1.6278e-03, -1.8788e-02,  8.3415e-03,  1.5085e-02, -1.2972e-02,\n",
       "                       2.6839e-04, -7.5869e-03, -2.0379e-02,  6.3057e-03, -1.0210e-02,\n",
       "                       1.9112e-02,  1.6348e-02, -2.1740e-02,  1.1601e-02,  7.3531e-03,\n",
       "                      -2.0508e-02,  1.3965e-02,  1.1419e-02, -1.7101e-02, -2.0357e-02,\n",
       "                       8.6617e-03,  9.8227e-03,  1.0067e-02, -4.0143e-03, -1.4855e-02,\n",
       "                       2.0230e-02,  1.7419e-02, -1.9985e-02,  1.5621e-02, -2.2668e-02,\n",
       "                       9.3317e-03, -6.2606e-03, -1.9399e-02, -1.4334e-02,  1.5764e-02,\n",
       "                       1.0704e-03, -1.6333e-02, -1.6463e-02, -1.0977e-02, -1.1738e-02,\n",
       "                       3.3323e-03,  2.1640e-02, -1.6994e-03, -1.9205e-02, -1.8713e-02,\n",
       "                       4.2068e-03,  5.3168e-03, -2.0275e-02,  4.3287e-04,  1.0885e-02,\n",
       "                      -1.1515e-02,  2.2670e-03, -1.1485e-02,  1.1820e-02,  7.5167e-03,\n",
       "                      -1.9669e-02, -1.5383e-03, -4.4607e-03, -1.3470e-02, -1.1732e-02,\n",
       "                       1.7482e-02,  1.1897e-02,  1.1510e-02, -1.0330e-02,  1.5681e-03,\n",
       "                       1.5589e-02,  2.2418e-03,  1.6661e-02,  5.8093e-03,  1.3260e-02,\n",
       "                      -8.1142e-03, -1.4575e-02, -1.9307e-02, -4.9192e-03, -1.3928e-02,\n",
       "                       1.7601e-02, -3.0152e-03,  5.4347e-03,  3.8965e-03,  1.6072e-02,\n",
       "                      -3.7972e-03,  1.5267e-03, -5.2691e-04,  1.5447e-03, -1.8525e-02,\n",
       "                      -1.3144e-02,  6.1874e-03, -2.2666e-03, -9.3748e-03, -3.0433e-03,\n",
       "                      -1.4743e-02, -1.9049e-03,  3.0599e-03, -1.5510e-02,  9.3932e-03,\n",
       "                       1.0625e-02,  2.1812e-02,  1.4259e-02,  8.1576e-04,  2.9659e-03,\n",
       "                       9.1924e-03,  8.5815e-03, -1.3158e-02,  3.1821e-03,  1.8007e-02,\n",
       "                      -9.9175e-03,  1.8084e-02,  1.7994e-02, -7.2792e-03, -2.1030e-02,\n",
       "                       1.4035e-02, -2.0725e-02, -8.5761e-03, -1.4692e-02,  7.2580e-03,\n",
       "                      -5.9578e-03,  1.8679e-02, -1.1790e-02, -2.1145e-02, -4.2188e-04,\n",
       "                      -7.9784e-04, -2.0206e-03,  7.7850e-03,  1.6112e-02, -8.0207e-03,\n",
       "                      -1.0605e-02, -1.7383e-02, -1.2221e-02,  1.1823e-02, -7.2814e-03,\n",
       "                       5.4527e-03, -1.3230e-02, -1.3002e-02,  1.4181e-02, -1.3866e-02,\n",
       "                      -3.2677e-04, -5.9573e-03, -1.1380e-02, -1.6771e-02,  1.2277e-03,\n",
       "                       1.6792e-02, -1.9437e-02, -1.2790e-03, -1.4908e-03, -5.9154e-03,\n",
       "                       6.6710e-03, -7.9657e-03, -2.8211e-03,  7.7413e-04, -2.2184e-02,\n",
       "                      -1.8872e-02, -4.1517e-03,  1.6799e-02,  2.0178e-02, -2.1175e-02,\n",
       "                       1.3328e-02,  1.4721e-02, -1.1770e-03, -1.3742e-02, -7.8059e-04])),\n",
       "             ('conv7.0.weight',\n",
       "              tensor([[[[ 1.4275e-02,  1.5132e-02],\n",
       "                        [ 6.3392e-04,  1.1288e-03]],\n",
       "              \n",
       "                       [[ 9.6784e-03, -6.4716e-03],\n",
       "                        [-1.3911e-02,  1.4989e-02]],\n",
       "              \n",
       "                       [[-6.8050e-03, -3.4118e-03],\n",
       "                        [ 7.3649e-03,  1.3719e-02]],\n",
       "              \n",
       "                       ...,\n",
       "              \n",
       "                       [[ 8.0533e-03, -5.5268e-03],\n",
       "                        [-1.5501e-02, -5.2741e-03]],\n",
       "              \n",
       "                       [[-1.3151e-02,  5.6592e-03],\n",
       "                        [-4.0574e-04,  8.1675e-03]],\n",
       "              \n",
       "                       [[ 1.1580e-02, -1.0341e-02],\n",
       "                        [-1.5360e-02, -4.3418e-03]]],\n",
       "              \n",
       "              \n",
       "                      [[[ 8.1462e-03,  2.3292e-03],\n",
       "                        [-1.1663e-02, -8.0642e-03]],\n",
       "              \n",
       "                       [[ 1.3905e-02, -1.4442e-02],\n",
       "                        [ 1.4343e-02, -9.0392e-03]],\n",
       "              \n",
       "                       [[-5.4470e-03,  5.6910e-03],\n",
       "                        [ 1.4245e-02,  1.7372e-03]],\n",
       "              \n",
       "                       ...,\n",
       "              \n",
       "                       [[ 3.8552e-03,  2.6131e-04],\n",
       "                        [ 1.2095e-02,  1.1733e-04]],\n",
       "              \n",
       "                       [[ 6.7274e-03, -6.2211e-03],\n",
       "                        [-5.9081e-03,  3.0967e-03]],\n",
       "              \n",
       "                       [[-7.5096e-03, -1.3491e-02],\n",
       "                        [-5.3390e-03,  1.0780e-02]]],\n",
       "              \n",
       "              \n",
       "                      [[[-1.3351e-03,  1.3718e-02],\n",
       "                        [ 1.6103e-02, -1.5174e-02]],\n",
       "              \n",
       "                       [[ 1.1062e-02,  1.5719e-03],\n",
       "                        [-1.2373e-02, -1.1435e-02]],\n",
       "              \n",
       "                       [[ 1.3118e-02, -1.9682e-03],\n",
       "                        [ 6.0223e-03,  1.1331e-02]],\n",
       "              \n",
       "                       ...,\n",
       "              \n",
       "                       [[ 9.9136e-03,  1.0129e-02],\n",
       "                        [ 1.9129e-03,  2.6506e-03]],\n",
       "              \n",
       "                       [[-7.8497e-03, -1.5319e-02],\n",
       "                        [-7.2265e-03,  7.1834e-03]],\n",
       "              \n",
       "                       [[ 9.1314e-03,  1.5793e-02],\n",
       "                        [ 2.6627e-03, -1.2102e-02]]],\n",
       "              \n",
       "              \n",
       "                      ...,\n",
       "              \n",
       "              \n",
       "                      [[[ 7.7327e-03,  6.5952e-04],\n",
       "                        [ 9.9119e-03,  9.4071e-03]],\n",
       "              \n",
       "                       [[ 1.0745e-02,  5.4682e-03],\n",
       "                        [-1.2808e-02, -8.6117e-03]],\n",
       "              \n",
       "                       [[ 8.9021e-03, -1.6082e-03],\n",
       "                        [-1.6624e-03,  1.0101e-02]],\n",
       "              \n",
       "                       ...,\n",
       "              \n",
       "                       [[ 1.2975e-02, -1.1768e-02],\n",
       "                        [ 6.2347e-03, -4.3291e-03]],\n",
       "              \n",
       "                       [[ 1.4593e-02, -1.5194e-04],\n",
       "                        [-3.9453e-05, -9.8432e-03]],\n",
       "              \n",
       "                       [[-2.1763e-03, -1.0899e-02],\n",
       "                        [-1.2428e-02, -1.4958e-02]]],\n",
       "              \n",
       "              \n",
       "                      [[[-1.8009e-03,  1.2118e-02],\n",
       "                        [-9.0075e-03,  1.4710e-02]],\n",
       "              \n",
       "                       [[ 5.5493e-03, -1.3795e-02],\n",
       "                        [-7.4853e-04, -1.1082e-02]],\n",
       "              \n",
       "                       [[ 1.4493e-02,  1.2399e-02],\n",
       "                        [ 1.5925e-02,  1.0293e-02]],\n",
       "              \n",
       "                       ...,\n",
       "              \n",
       "                       [[-1.5064e-02,  7.5883e-03],\n",
       "                        [-1.7913e-03,  2.6120e-04]],\n",
       "              \n",
       "                       [[-1.2479e-02,  1.5706e-02],\n",
       "                        [-3.6178e-03, -1.2829e-02]],\n",
       "              \n",
       "                       [[-3.5684e-03, -1.2422e-02],\n",
       "                        [ 1.5300e-02, -3.3233e-03]]],\n",
       "              \n",
       "              \n",
       "                      [[[-1.0046e-02,  1.3977e-02],\n",
       "                        [-6.7625e-03,  1.7542e-03]],\n",
       "              \n",
       "                       [[-2.9372e-03,  1.3063e-02],\n",
       "                        [ 3.1328e-03,  5.5354e-03]],\n",
       "              \n",
       "                       [[-1.3538e-02,  8.9367e-03],\n",
       "                        [ 8.1033e-03,  1.1233e-02]],\n",
       "              \n",
       "                       ...,\n",
       "              \n",
       "                       [[ 3.8488e-03, -1.4732e-02],\n",
       "                        [-1.7079e-03,  4.1084e-03]],\n",
       "              \n",
       "                       [[ 9.0498e-03, -1.2628e-02],\n",
       "                        [-1.0599e-02,  7.3111e-03]],\n",
       "              \n",
       "                       [[-3.7206e-03,  8.1527e-03],\n",
       "                        [ 8.0371e-03, -6.8086e-03]]]])),\n",
       "             ('conv7.0.bias',\n",
       "              tensor([-0.0116,  0.0119, -0.0116,  ..., -0.0145, -0.0008, -0.0083])),\n",
       "             ('linear.weight',\n",
       "              tensor([[-0.0048,  0.0003,  0.0021,  ...,  0.0021, -0.0072, -0.0037],\n",
       "                      [-0.0043,  0.0051,  0.0057,  ...,  0.0032, -0.0031,  0.0020]])),\n",
       "             ('linear.bias', tensor([ 0.0036, -0.0009]))])"
      ]
     },
     "execution_count": 40,
     "metadata": {},
     "output_type": "execute_result"
    }
   ],
   "source": [
    "model_0.state_dict()"
   ]
  },
  {
   "cell_type": "code",
   "execution_count": 41,
   "metadata": {
    "id": "YgYgySQwAbnZ"
   },
   "outputs": [
    {
     "name": "stdout",
     "output_type": "stream",
     "text": [
      "Trained model saved at model_0_state.pth\n"
     ]
    }
   ],
   "source": [
    "# save model\n",
    "torch.save(model_0.state_dict(), \"model_0_state.pth\")\n",
    "print(\"Trained model saved at model_0_state.pth\")"
   ]
  },
  {
   "cell_type": "code",
   "execution_count": null,
   "metadata": {},
   "outputs": [],
   "source": []
  }
 ],
 "metadata": {
  "colab": {
   "provenance": []
  },
  "kernelspec": {
   "display_name": "Python 3 (ipykernel)",
   "language": "python",
   "name": "python3"
  },
  "language_info": {
   "codemirror_mode": {
    "name": "ipython",
    "version": 3
   },
   "file_extension": ".py",
   "mimetype": "text/x-python",
   "name": "python",
   "nbconvert_exporter": "python",
   "pygments_lexer": "ipython3",
   "version": "3.9.7"
  },
  "widgets": {
   "application/vnd.jupyter.widget-state+json": {
    "2747a4502e3a450599de7492a7393b4d": {
     "model_module": "@jupyter-widgets/controls",
     "model_module_version": "1.5.0",
     "model_name": "HBoxModel",
     "state": {
      "_dom_classes": [],
      "_model_module": "@jupyter-widgets/controls",
      "_model_module_version": "1.5.0",
      "_model_name": "HBoxModel",
      "_view_count": null,
      "_view_module": "@jupyter-widgets/controls",
      "_view_module_version": "1.5.0",
      "_view_name": "HBoxView",
      "box_style": "",
      "children": [
       "IPY_MODEL_5c16aff0fac641ca80bc79b2c25a12ef",
       "IPY_MODEL_ec2e3e0805bc42f29a6056235d925869",
       "IPY_MODEL_3c214bc3115247f899b1cbf410c627e1"
      ],
      "layout": "IPY_MODEL_f1a28604dc94469c943b0bfee48c05ad"
     }
    },
    "29f7f34a18a642499f1b3695a016fe68": {
     "model_module": "@jupyter-widgets/controls",
     "model_module_version": "1.5.0",
     "model_name": "DescriptionStyleModel",
     "state": {
      "_model_module": "@jupyter-widgets/controls",
      "_model_module_version": "1.5.0",
      "_model_name": "DescriptionStyleModel",
      "_view_count": null,
      "_view_module": "@jupyter-widgets/base",
      "_view_module_version": "1.2.0",
      "_view_name": "StyleView",
      "description_width": ""
     }
    },
    "3c214bc3115247f899b1cbf410c627e1": {
     "model_module": "@jupyter-widgets/controls",
     "model_module_version": "1.5.0",
     "model_name": "HTMLModel",
     "state": {
      "_dom_classes": [],
      "_model_module": "@jupyter-widgets/controls",
      "_model_module_version": "1.5.0",
      "_model_name": "HTMLModel",
      "_view_count": null,
      "_view_module": "@jupyter-widgets/controls",
      "_view_module_version": "1.5.0",
      "_view_name": "HTMLView",
      "description": "",
      "description_tooltip": null,
      "layout": "IPY_MODEL_57b14b3174b64552a4eeada6779141d3",
      "placeholder": "​",
      "style": "IPY_MODEL_29f7f34a18a642499f1b3695a016fe68",
      "value": " 0/5 [00:00&lt;?, ?it/s]"
     }
    },
    "4b61804a1c644e969d5adcafd4b8b3fc": {
     "model_module": "@jupyter-widgets/base",
     "model_module_version": "1.2.0",
     "model_name": "LayoutModel",
     "state": {
      "_model_module": "@jupyter-widgets/base",
      "_model_module_version": "1.2.0",
      "_model_name": "LayoutModel",
      "_view_count": null,
      "_view_module": "@jupyter-widgets/base",
      "_view_module_version": "1.2.0",
      "_view_name": "LayoutView",
      "align_content": null,
      "align_items": null,
      "align_self": null,
      "border": null,
      "bottom": null,
      "display": null,
      "flex": null,
      "flex_flow": null,
      "grid_area": null,
      "grid_auto_columns": null,
      "grid_auto_flow": null,
      "grid_auto_rows": null,
      "grid_column": null,
      "grid_gap": null,
      "grid_row": null,
      "grid_template_areas": null,
      "grid_template_columns": null,
      "grid_template_rows": null,
      "height": null,
      "justify_content": null,
      "justify_items": null,
      "left": null,
      "margin": null,
      "max_height": null,
      "max_width": null,
      "min_height": null,
      "min_width": null,
      "object_fit": null,
      "object_position": null,
      "order": null,
      "overflow": null,
      "overflow_x": null,
      "overflow_y": null,
      "padding": null,
      "right": null,
      "top": null,
      "visibility": null,
      "width": null
     }
    },
    "57b14b3174b64552a4eeada6779141d3": {
     "model_module": "@jupyter-widgets/base",
     "model_module_version": "1.2.0",
     "model_name": "LayoutModel",
     "state": {
      "_model_module": "@jupyter-widgets/base",
      "_model_module_version": "1.2.0",
      "_model_name": "LayoutModel",
      "_view_count": null,
      "_view_module": "@jupyter-widgets/base",
      "_view_module_version": "1.2.0",
      "_view_name": "LayoutView",
      "align_content": null,
      "align_items": null,
      "align_self": null,
      "border": null,
      "bottom": null,
      "display": null,
      "flex": null,
      "flex_flow": null,
      "grid_area": null,
      "grid_auto_columns": null,
      "grid_auto_flow": null,
      "grid_auto_rows": null,
      "grid_column": null,
      "grid_gap": null,
      "grid_row": null,
      "grid_template_areas": null,
      "grid_template_columns": null,
      "grid_template_rows": null,
      "height": null,
      "justify_content": null,
      "justify_items": null,
      "left": null,
      "margin": null,
      "max_height": null,
      "max_width": null,
      "min_height": null,
      "min_width": null,
      "object_fit": null,
      "object_position": null,
      "order": null,
      "overflow": null,
      "overflow_x": null,
      "overflow_y": null,
      "padding": null,
      "right": null,
      "top": null,
      "visibility": null,
      "width": null
     }
    },
    "59c29ca8c2c34d7d9a5a9410a695fd93": {
     "model_module": "@jupyter-widgets/controls",
     "model_module_version": "1.5.0",
     "model_name": "ProgressStyleModel",
     "state": {
      "_model_module": "@jupyter-widgets/controls",
      "_model_module_version": "1.5.0",
      "_model_name": "ProgressStyleModel",
      "_view_count": null,
      "_view_module": "@jupyter-widgets/base",
      "_view_module_version": "1.2.0",
      "_view_name": "StyleView",
      "bar_color": null,
      "description_width": ""
     }
    },
    "5c16aff0fac641ca80bc79b2c25a12ef": {
     "model_module": "@jupyter-widgets/controls",
     "model_module_version": "1.5.0",
     "model_name": "HTMLModel",
     "state": {
      "_dom_classes": [],
      "_model_module": "@jupyter-widgets/controls",
      "_model_module_version": "1.5.0",
      "_model_name": "HTMLModel",
      "_view_count": null,
      "_view_module": "@jupyter-widgets/controls",
      "_view_module_version": "1.5.0",
      "_view_name": "HTMLView",
      "description": "",
      "description_tooltip": null,
      "layout": "IPY_MODEL_8894d7502e9b4459a557cfa86477ea4f",
      "placeholder": "​",
      "style": "IPY_MODEL_b9f6f85cf49a4cca8433e6799eec60e6",
      "value": "  0%"
     }
    },
    "8894d7502e9b4459a557cfa86477ea4f": {
     "model_module": "@jupyter-widgets/base",
     "model_module_version": "1.2.0",
     "model_name": "LayoutModel",
     "state": {
      "_model_module": "@jupyter-widgets/base",
      "_model_module_version": "1.2.0",
      "_model_name": "LayoutModel",
      "_view_count": null,
      "_view_module": "@jupyter-widgets/base",
      "_view_module_version": "1.2.0",
      "_view_name": "LayoutView",
      "align_content": null,
      "align_items": null,
      "align_self": null,
      "border": null,
      "bottom": null,
      "display": null,
      "flex": null,
      "flex_flow": null,
      "grid_area": null,
      "grid_auto_columns": null,
      "grid_auto_flow": null,
      "grid_auto_rows": null,
      "grid_column": null,
      "grid_gap": null,
      "grid_row": null,
      "grid_template_areas": null,
      "grid_template_columns": null,
      "grid_template_rows": null,
      "height": null,
      "justify_content": null,
      "justify_items": null,
      "left": null,
      "margin": null,
      "max_height": null,
      "max_width": null,
      "min_height": null,
      "min_width": null,
      "object_fit": null,
      "object_position": null,
      "order": null,
      "overflow": null,
      "overflow_x": null,
      "overflow_y": null,
      "padding": null,
      "right": null,
      "top": null,
      "visibility": null,
      "width": null
     }
    },
    "b9f6f85cf49a4cca8433e6799eec60e6": {
     "model_module": "@jupyter-widgets/controls",
     "model_module_version": "1.5.0",
     "model_name": "DescriptionStyleModel",
     "state": {
      "_model_module": "@jupyter-widgets/controls",
      "_model_module_version": "1.5.0",
      "_model_name": "DescriptionStyleModel",
      "_view_count": null,
      "_view_module": "@jupyter-widgets/base",
      "_view_module_version": "1.2.0",
      "_view_name": "StyleView",
      "description_width": ""
     }
    },
    "ec2e3e0805bc42f29a6056235d925869": {
     "model_module": "@jupyter-widgets/controls",
     "model_module_version": "1.5.0",
     "model_name": "FloatProgressModel",
     "state": {
      "_dom_classes": [],
      "_model_module": "@jupyter-widgets/controls",
      "_model_module_version": "1.5.0",
      "_model_name": "FloatProgressModel",
      "_view_count": null,
      "_view_module": "@jupyter-widgets/controls",
      "_view_module_version": "1.5.0",
      "_view_name": "ProgressView",
      "bar_style": "danger",
      "description": "",
      "description_tooltip": null,
      "layout": "IPY_MODEL_4b61804a1c644e969d5adcafd4b8b3fc",
      "max": 5,
      "min": 0,
      "orientation": "horizontal",
      "style": "IPY_MODEL_59c29ca8c2c34d7d9a5a9410a695fd93",
      "value": 0
     }
    },
    "f1a28604dc94469c943b0bfee48c05ad": {
     "model_module": "@jupyter-widgets/base",
     "model_module_version": "1.2.0",
     "model_name": "LayoutModel",
     "state": {
      "_model_module": "@jupyter-widgets/base",
      "_model_module_version": "1.2.0",
      "_model_name": "LayoutModel",
      "_view_count": null,
      "_view_module": "@jupyter-widgets/base",
      "_view_module_version": "1.2.0",
      "_view_name": "LayoutView",
      "align_content": null,
      "align_items": null,
      "align_self": null,
      "border": null,
      "bottom": null,
      "display": null,
      "flex": null,
      "flex_flow": null,
      "grid_area": null,
      "grid_auto_columns": null,
      "grid_auto_flow": null,
      "grid_auto_rows": null,
      "grid_column": null,
      "grid_gap": null,
      "grid_row": null,
      "grid_template_areas": null,
      "grid_template_columns": null,
      "grid_template_rows": null,
      "height": null,
      "justify_content": null,
      "justify_items": null,
      "left": null,
      "margin": null,
      "max_height": null,
      "max_width": null,
      "min_height": null,
      "min_width": null,
      "object_fit": null,
      "object_position": null,
      "order": null,
      "overflow": null,
      "overflow_x": null,
      "overflow_y": null,
      "padding": null,
      "right": null,
      "top": null,
      "visibility": null,
      "width": null
     }
    }
   }
  }
 },
 "nbformat": 4,
 "nbformat_minor": 1
}
